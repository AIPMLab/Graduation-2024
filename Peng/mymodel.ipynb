{
 "cells": [
  {
   "cell_type": "code",
   "execution_count": 1,
   "metadata": {},
   "outputs": [
    {
     "data": {
      "text/plain": [
       "True"
      ]
     },
     "execution_count": 1,
     "metadata": {},
     "output_type": "execute_result"
    }
   ],
   "source": [
    "import torch\n",
    "import torchvision.models as models\n",
    "import torch.cuda                   \n",
    "from PIL import ImageFile\n",
    "from torchvision import datasets\n",
    "from torchvision.transforms import transforms\n",
    "from base.model import ResNetRS\n",
    "import copy\n",
    "from tqdm import tqdm\n",
    "import torch\n",
    "from torch.utils.data import DataLoader\n",
    "from torch import nn, optim\n",
    "import torch.cuda                   \n",
    "from typing import List, Callable, Tuple\n",
    "from base.EMA import EMA\n",
    "ImageFile.LOAD_TRUNCATED_IMAGES = True\n",
    "device = torch.device(\"cuda\" if torch.cuda.is_available() else \"cpu\")\n",
    "torch.cuda.is_available()"
   ]
  },
  {
   "cell_type": "code",
   "execution_count": 2,
   "metadata": {},
   "outputs": [],
   "source": [
    "train_dir = 'D:/GP/LC25/train/'\n",
    "valid_dir = 'D:/GP/LC25/val'\n",
    "test_dir = 'D:/GP/LC25/test/'\n",
    "train_set = train_dir\n",
    "valid_set = valid_dir\n",
    "test_set = test_dir\n",
    "batch_size=16\n",
    "shuffle=True\n",
    "num_workers=1\n",
    "\n",
    "transform = transforms.Compose([\n",
    "    transforms.Resize((224,224)),   # 调整图像大小\n",
    "    transforms.ToTensor(),  # 转换为PyTorch张量\n",
    "    transforms.Normalize(mean=[0.485, 0.456, 0.406], std=[0.229, 0.224, 0.225])  # 归一化\n",
    "])\n",
    "\n",
    "train_data = datasets.ImageFolder(train_set, transform)\n",
    "valid_data = datasets.ImageFolder(valid_set, transform)\n",
    "\n",
    "train_loader = torch.utils.data.DataLoader(train_data, batch_size=batch_size, num_workers=num_workers, shuffle=shuffle)\n",
    "valid_loader = torch.utils.data.DataLoader(valid_data, batch_size=batch_size, num_workers=num_workers, shuffle=shuffle)\n",
    "\n",
    "loaders = {\n",
    "    'train': train_loader,\n",
    "    'val': valid_loader\n",
    "}\n",
    "\n",
    "test_data = datasets.ImageFolder(test_set, transform=transform)\n",
    "\n",
    "test_loader = torch.utils.data.DataLoader(test_data, batch_size=batch_size, num_workers=num_workers, shuffle=False)"
   ]
  },
  {
   "cell_type": "code",
   "execution_count": 3,
   "metadata": {},
   "outputs": [
    {
     "name": "stdout",
     "output_type": "stream",
     "text": [
      "2400 300 483\n"
     ]
    }
   ],
   "source": [
    "print(len(train_data),len(valid_data),len(test_data))"
   ]
  },
  {
   "cell_type": "code",
   "execution_count": null,
   "metadata": {},
   "outputs": [],
   "source": [
    "ml=models.mobilenet_v2\n",
    "model=ml.to(device)"
   ]
  },
  {
   "cell_type": "code",
   "execution_count": null,
   "metadata": {},
   "outputs": [],
   "source": [
    "models.densenet._COMMON_META['categories']=3\n",
    "den12=models.densenet121(weights=None)\n",
    "model=den12.to(device)"
   ]
  },
  {
   "cell_type": "code",
   "execution_count": null,
   "metadata": {},
   "outputs": [],
   "source": [
    "VGG16=models.mobilenet\n",
    "model=VGG16.to(device)"
   ]
  },
  {
   "cell_type": "code",
   "execution_count": null,
   "metadata": {},
   "outputs": [],
   "source": [
    "effic=models.efficientnet_v2_m(weights=None)\n",
    "model=effic.to(device)"
   ]
  },
  {
   "cell_type": "code",
   "execution_count": null,
   "metadata": {},
   "outputs": [],
   "source": [
    "mymodel=ResNetRS([3, 4, 6, 3], num_class=3)\n",
    "model=mymodel.to(device)"
   ]
  },
  {
   "cell_type": "code",
   "execution_count": 4,
   "metadata": {},
   "outputs": [],
   "source": [
    "models.resnet._COMMON_META['categories']=3\n",
    "res=models.resnet50(weights=None)\n",
    "model=res.to(device)"
   ]
  },
  {
   "cell_type": "code",
   "execution_count": 5,
   "metadata": {},
   "outputs": [],
   "source": [
    "n_epochs         = 200\n",
    "lr               = 0.001\n",
    "model_name       = 'mymodel'\n",
    "criterion = torch.nn.CrossEntropyLoss()\n",
    "optimizer = optim.SGD(model.parameters(), lr, momentum=0.9)\n",
    "T_max = 40\n",
    "eta_min = 1e-6\n",
    "exp_lr_scheduler = optim.lr_scheduler.CosineAnnealingLR(optimizer, T_max=T_max, eta_min=eta_min)\n",
    "ema = EMA(model.parameters(), decay_rate=0.995, num_updates=0)"
   ]
  },
  {
   "cell_type": "code",
   "execution_count": 6,
   "metadata": {},
   "outputs": [],
   "source": [
    "t_acc=[]\n",
    "t_loss=[]\n",
    "v_acc=[]\n",
    "v_loss=[]"
   ]
  },
  {
   "cell_type": "code",
   "execution_count": 7,
   "metadata": {},
   "outputs": [],
   "source": [
    "def train_model(model: nn.Module, criterion: Callable, optimizer: optim.Optimizer,\n",
    "                scheduler: optim.lr_scheduler, loaders: List[DataLoader], num_epochs: int = 10\n",
    "               ) -> Tuple[nn.Module, List[float], List[float]]:  \n",
    "    \"\"\"\n",
    "    Train a model on a dataset.\n",
    "\n",
    "    Args:\n",
    "      model: The model to train.\n",
    "      criterion: The loss function.\n",
    "      optimizer: The optimizer.\n",
    "      scheduler: The learning_rate scheduler\n",
    "      loaders: The training dataloader.\n",
    "      num_epochs: The number of epochs to train for.\n",
    "\n",
    "    Returns:\n",
    "      A list of three elements. The first element is the model, the second element is a list of training losses, and the third element is a list of validation losses.\n",
    "    \"\"\"\n",
    "    best_model_wts = copy.deepcopy(model.state_dict())\n",
    "    best_acc = 0.0\n",
    "    patience = 200\n",
    "    counter = 0\n",
    "    train_loss = []\n",
    "    valid_loss = []\n",
    "    \n",
    "    for epoch in range(num_epochs):\n",
    "        \n",
    "        print(f'Epoch {epoch}/{num_epochs - 1}')\n",
    "        print('-' * 10)\n",
    "                     \n",
    "        # Training Phase\n",
    "        model.train()\n",
    "        running_corrects_T = 0\n",
    "        running_loss_T = 0.0\n",
    "        ns_T = 0\n",
    "        train_dl = loaders['train']\n",
    "        \n",
    "        with tqdm(train_dl, desc=f\"Training Epoch {epoch+1}\") as pbar:\n",
    "\n",
    "            for images, labels in pbar:\n",
    "                images, labels = images.to(device), labels.to(device)\n",
    "                optimizer.zero_grad()\n",
    "                outp = model(images)\n",
    "                _, pred = torch.max(outp, 1)\n",
    "                loss = criterion(outp, labels)\n",
    "\n",
    "                loss.backward()\n",
    "                optimizer.step()\n",
    "                ema.update(model.parameters())\n",
    "\n",
    "                running_loss_T += loss.item() * images.size(0)\n",
    "                running_corrects_T += torch.sum(pred == labels.data)\n",
    "                ns_T += pred.shape[0]\n",
    "                \n",
    "                acc_value = running_corrects_T.double() / ns_T\n",
    "                loss_value = running_loss_T/ ns_T\n",
    "                metrics = {\"Batch\":f\"Batch_{ns_T}\",\"Train Accuracy\":f\"{acc_value:.3f}\",\n",
    "                           \"Train Loss\":f\"{loss_value:.3f}\"}\n",
    "                pbar.set_postfix(metrics)\n",
    "                \n",
    "        # Validation Phase\n",
    "        model.eval()\n",
    "\n",
    "        ns_V = 0\n",
    "        running_corrects_V = 0\n",
    "        running_loss_V = 0.0\n",
    "        valid_dl = loaders['val']\n",
    "        \n",
    "        with torch.no_grad():\n",
    "            with tqdm(valid_dl, desc=f\"Validation Epoch {epoch+1}\") as pbar:\n",
    "\n",
    "                for images, labels in pbar:\n",
    "                    images, labels = images.to(device), labels.to(device)\n",
    "                    optimizer.zero_grad()\n",
    "                    ema.store(model.parameters())\n",
    "                    ema.copy(model.parameters())\n",
    "\n",
    "                    outp = model(images)\n",
    "                    _, pred = torch.max(outp, 1)\n",
    "                    val_loss = criterion(outp, labels)\n",
    "                    ema.copy_back(model.parameters())\n",
    "\n",
    "                    running_loss_V += val_loss.item() * images.size(0)\n",
    "                    ns_V += pred.shape[0]\n",
    "                    running_corrects_V += torch.sum(pred == labels.data)\n",
    "\n",
    "                    acc_value = running_corrects_V.double() / ns_V\n",
    "                    loss_value = running_loss_V/ ns_V\n",
    "\n",
    "                    metrics = {\"Val Accuracy\":f\"{acc_value:.3f}\",\"Val Loss\":f\"{loss_value:.3f}\"}\n",
    "                    pbar.set_postfix(metrics)\n",
    "                \n",
    "        Train_loss = running_loss_T / len(train_dl.dataset)\n",
    "        train_loss.append(Train_loss)\n",
    "        Valid_loss = running_loss_V / len(valid_dl.dataset)\n",
    "        valid_loss.append(Valid_loss)\n",
    "        Train_acc = running_corrects_T.double() / ns_T\n",
    "        Valid_acc = running_corrects_V.double() / ns_V\n",
    "        \n",
    "        scheduler.step()\n",
    "        t_loss.append(Train_loss)\n",
    "        t_acc.append(Train_acc)\n",
    "        v_loss.append(Valid_loss)\n",
    "        v_acc.append(Valid_acc)\n",
    "\n",
    "        print(f'Train Loss: {Train_loss:.4f} Train Acc: {Train_acc:.4f} Valid Loss: {Valid_loss:.4f} Valid Acc: {Valid_acc:.4f}')\n",
    "    \n",
    "        if Valid_acc > best_acc and epoch >20:\n",
    "            best_acc = Valid_acc\n",
    "            best_model_wts = copy.deepcopy(model.state_dict())\n",
    "            checkpoint = {\"state_dict\": model.state_dict(), \"optimizer\": optimizer.state_dict()}\n",
    "            \n",
    "            counter = 0\n",
    "        else:\n",
    "            counter += 1\n",
    "            if counter >= patience:\n",
    "                print(\"Early stopping\")\n",
    "                break\n",
    "            \n",
    "            \n",
    "    print('Best accuracy {}'.format(best_acc))            \n",
    "    model.load_state_dict(best_model_wts)\n",
    "    return model, train_loss, valid_loss"
   ]
  },
  {
   "cell_type": "code",
   "execution_count": null,
   "metadata": {},
   "outputs": [],
   "source": [
    "# n_epochs         = 200\n",
    "# model_name       = 'mymodel'\n",
    "# criterion = torch.nn.CrossEntropyLoss()\n",
    "# optimizer = optim.Adam(model.parameters(), lr=0.001)\n",
    "# T_max = 20\n",
    "# eta_min = 1e-6\n",
    "# exp_lr_scheduler = optim.lr_scheduler.CosineAnnealingLR(optimizer, T_max=T_max, eta_min=eta_min)"
   ]
  },
  {
   "cell_type": "code",
   "execution_count": 8,
   "metadata": {},
   "outputs": [
    {
     "name": "stdout",
     "output_type": "stream",
     "text": [
      "0 0 0 0\n"
     ]
    }
   ],
   "source": [
    "print(len(t_acc),len(t_loss),len(v_acc),len(v_loss))"
   ]
  },
  {
   "cell_type": "code",
   "execution_count": 9,
   "metadata": {},
   "outputs": [
    {
     "name": "stdout",
     "output_type": "stream",
     "text": [
      "Epoch 0/199\n",
      "----------\n"
     ]
    },
    {
     "name": "stderr",
     "output_type": "stream",
     "text": [
      "Training Epoch 1: 100%|██████████| 150/150 [00:22<00:00,  6.63it/s, Batch=Batch_2400, Train Accuracy=0.696, Train Loss=0.762]\n",
      "Validation Epoch 1: 100%|██████████| 19/19 [00:03<00:00,  5.13it/s, Val Accuracy=0.887, Val Loss=0.274]\n"
     ]
    },
    {
     "name": "stdout",
     "output_type": "stream",
     "text": [
      "Train Loss: 0.7619 Train Acc: 0.6963 Valid Loss: 0.2738 Valid Acc: 0.8867\n",
      "Epoch 1/199\n",
      "----------\n"
     ]
    },
    {
     "name": "stderr",
     "output_type": "stream",
     "text": [
      "Training Epoch 2: 100%|██████████| 150/150 [00:22<00:00,  6.71it/s, Batch=Batch_2400, Train Accuracy=0.836, Train Loss=0.385]\n",
      "Validation Epoch 2: 100%|██████████| 19/19 [00:03<00:00,  5.00it/s, Val Accuracy=0.883, Val Loss=0.270]\n"
     ]
    },
    {
     "name": "stdout",
     "output_type": "stream",
     "text": [
      "Train Loss: 0.3846 Train Acc: 0.8363 Valid Loss: 0.2699 Valid Acc: 0.8833\n",
      "Epoch 2/199\n",
      "----------\n"
     ]
    },
    {
     "name": "stderr",
     "output_type": "stream",
     "text": [
      "Training Epoch 3: 100%|██████████| 150/150 [00:22<00:00,  6.73it/s, Batch=Batch_2400, Train Accuracy=0.875, Train Loss=0.312]\n",
      "Validation Epoch 3: 100%|██████████| 19/19 [00:04<00:00,  4.70it/s, Val Accuracy=0.930, Val Loss=0.187]\n"
     ]
    },
    {
     "name": "stdout",
     "output_type": "stream",
     "text": [
      "Train Loss: 0.3124 Train Acc: 0.8754 Valid Loss: 0.1869 Valid Acc: 0.9300\n",
      "Epoch 3/199\n",
      "----------\n"
     ]
    },
    {
     "name": "stderr",
     "output_type": "stream",
     "text": [
      "Training Epoch 4: 100%|██████████| 150/150 [00:22<00:00,  6.76it/s, Batch=Batch_2400, Train Accuracy=0.873, Train Loss=0.310]\n",
      "Validation Epoch 4: 100%|██████████| 19/19 [00:03<00:00,  4.87it/s, Val Accuracy=0.820, Val Loss=0.370]\n"
     ]
    },
    {
     "name": "stdout",
     "output_type": "stream",
     "text": [
      "Train Loss: 0.3103 Train Acc: 0.8733 Valid Loss: 0.3699 Valid Acc: 0.8200\n",
      "Epoch 4/199\n",
      "----------\n"
     ]
    },
    {
     "name": "stderr",
     "output_type": "stream",
     "text": [
      "Training Epoch 5: 100%|██████████| 150/150 [00:22<00:00,  6.70it/s, Batch=Batch_2400, Train Accuracy=0.901, Train Loss=0.259]\n",
      "Validation Epoch 5: 100%|██████████| 19/19 [00:03<00:00,  4.91it/s, Val Accuracy=0.870, Val Loss=0.291]\n"
     ]
    },
    {
     "name": "stdout",
     "output_type": "stream",
     "text": [
      "Train Loss: 0.2591 Train Acc: 0.9008 Valid Loss: 0.2911 Valid Acc: 0.8700\n",
      "Epoch 5/199\n",
      "----------\n"
     ]
    },
    {
     "name": "stderr",
     "output_type": "stream",
     "text": [
      "Training Epoch 6: 100%|██████████| 150/150 [00:22<00:00,  6.74it/s, Batch=Batch_2400, Train Accuracy=0.903, Train Loss=0.253]\n",
      "Validation Epoch 6: 100%|██████████| 19/19 [00:03<00:00,  4.89it/s, Val Accuracy=0.947, Val Loss=0.187]\n"
     ]
    },
    {
     "name": "stdout",
     "output_type": "stream",
     "text": [
      "Train Loss: 0.2528 Train Acc: 0.9033 Valid Loss: 0.1870 Valid Acc: 0.9467\n",
      "Epoch 6/199\n",
      "----------\n"
     ]
    },
    {
     "name": "stderr",
     "output_type": "stream",
     "text": [
      "Training Epoch 7: 100%|██████████| 150/150 [00:22<00:00,  6.75it/s, Batch=Batch_2400, Train Accuracy=0.888, Train Loss=0.274]\n",
      "Validation Epoch 7: 100%|██████████| 19/19 [00:03<00:00,  4.94it/s, Val Accuracy=0.930, Val Loss=0.179]\n"
     ]
    },
    {
     "name": "stdout",
     "output_type": "stream",
     "text": [
      "Train Loss: 0.2743 Train Acc: 0.8883 Valid Loss: 0.1793 Valid Acc: 0.9300\n",
      "Epoch 7/199\n",
      "----------\n"
     ]
    },
    {
     "name": "stderr",
     "output_type": "stream",
     "text": [
      "Training Epoch 8: 100%|██████████| 150/150 [00:22<00:00,  6.75it/s, Batch=Batch_2400, Train Accuracy=0.903, Train Loss=0.239]\n",
      "Validation Epoch 8: 100%|██████████| 19/19 [00:03<00:00,  5.06it/s, Val Accuracy=0.947, Val Loss=0.114]\n"
     ]
    },
    {
     "name": "stdout",
     "output_type": "stream",
     "text": [
      "Train Loss: 0.2393 Train Acc: 0.9025 Valid Loss: 0.1144 Valid Acc: 0.9467\n",
      "Epoch 8/199\n",
      "----------\n"
     ]
    },
    {
     "name": "stderr",
     "output_type": "stream",
     "text": [
      "Training Epoch 9: 100%|██████████| 150/150 [00:22<00:00,  6.75it/s, Batch=Batch_2400, Train Accuracy=0.910, Train Loss=0.238]\n",
      "Validation Epoch 9: 100%|██████████| 19/19 [00:03<00:00,  5.04it/s, Val Accuracy=0.877, Val Loss=0.307]\n"
     ]
    },
    {
     "name": "stdout",
     "output_type": "stream",
     "text": [
      "Train Loss: 0.2378 Train Acc: 0.9100 Valid Loss: 0.3067 Valid Acc: 0.8767\n",
      "Epoch 9/199\n",
      "----------\n"
     ]
    },
    {
     "name": "stderr",
     "output_type": "stream",
     "text": [
      "Training Epoch 10: 100%|██████████| 150/150 [00:22<00:00,  6.75it/s, Batch=Batch_2400, Train Accuracy=0.930, Train Loss=0.181]\n",
      "Validation Epoch 10: 100%|██████████| 19/19 [00:03<00:00,  4.93it/s, Val Accuracy=0.870, Val Loss=0.286]\n"
     ]
    },
    {
     "name": "stdout",
     "output_type": "stream",
     "text": [
      "Train Loss: 0.1814 Train Acc: 0.9296 Valid Loss: 0.2860 Valid Acc: 0.8700\n",
      "Epoch 10/199\n",
      "----------\n"
     ]
    },
    {
     "name": "stderr",
     "output_type": "stream",
     "text": [
      "Training Epoch 11: 100%|██████████| 150/150 [00:22<00:00,  6.76it/s, Batch=Batch_2400, Train Accuracy=0.943, Train Loss=0.152]\n",
      "Validation Epoch 11: 100%|██████████| 19/19 [00:03<00:00,  4.90it/s, Val Accuracy=0.907, Val Loss=0.220]\n"
     ]
    },
    {
     "name": "stdout",
     "output_type": "stream",
     "text": [
      "Train Loss: 0.1518 Train Acc: 0.9425 Valid Loss: 0.2201 Valid Acc: 0.9067\n",
      "Epoch 11/199\n",
      "----------\n"
     ]
    },
    {
     "name": "stderr",
     "output_type": "stream",
     "text": [
      "Training Epoch 12: 100%|██████████| 150/150 [00:22<00:00,  6.71it/s, Batch=Batch_2400, Train Accuracy=0.915, Train Loss=0.224]\n",
      "Validation Epoch 12: 100%|██████████| 19/19 [00:04<00:00,  4.74it/s, Val Accuracy=0.890, Val Loss=0.214]\n"
     ]
    },
    {
     "name": "stdout",
     "output_type": "stream",
     "text": [
      "Train Loss: 0.2238 Train Acc: 0.9146 Valid Loss: 0.2144 Valid Acc: 0.8900\n",
      "Epoch 12/199\n",
      "----------\n"
     ]
    },
    {
     "name": "stderr",
     "output_type": "stream",
     "text": [
      "Training Epoch 13: 100%|██████████| 150/150 [00:22<00:00,  6.64it/s, Batch=Batch_2400, Train Accuracy=0.932, Train Loss=0.185]\n",
      "Validation Epoch 13: 100%|██████████| 19/19 [00:03<00:00,  4.85it/s, Val Accuracy=0.927, Val Loss=0.188]\n"
     ]
    },
    {
     "name": "stdout",
     "output_type": "stream",
     "text": [
      "Train Loss: 0.1846 Train Acc: 0.9317 Valid Loss: 0.1881 Valid Acc: 0.9267\n",
      "Epoch 13/199\n",
      "----------\n"
     ]
    },
    {
     "name": "stderr",
     "output_type": "stream",
     "text": [
      "Training Epoch 14: 100%|██████████| 150/150 [00:22<00:00,  6.75it/s, Batch=Batch_2400, Train Accuracy=0.931, Train Loss=0.206]\n",
      "Validation Epoch 14: 100%|██████████| 19/19 [00:03<00:00,  4.80it/s, Val Accuracy=0.973, Val Loss=0.068]\n"
     ]
    },
    {
     "name": "stdout",
     "output_type": "stream",
     "text": [
      "Train Loss: 0.2064 Train Acc: 0.9313 Valid Loss: 0.0675 Valid Acc: 0.9733\n",
      "Epoch 14/199\n",
      "----------\n"
     ]
    },
    {
     "name": "stderr",
     "output_type": "stream",
     "text": [
      "Training Epoch 15: 100%|██████████| 150/150 [00:22<00:00,  6.71it/s, Batch=Batch_2400, Train Accuracy=0.957, Train Loss=0.129]\n",
      "Validation Epoch 15: 100%|██████████| 19/19 [00:04<00:00,  4.72it/s, Val Accuracy=0.967, Val Loss=0.085]\n"
     ]
    },
    {
     "name": "stdout",
     "output_type": "stream",
     "text": [
      "Train Loss: 0.1292 Train Acc: 0.9567 Valid Loss: 0.0850 Valid Acc: 0.9667\n",
      "Epoch 15/199\n",
      "----------\n"
     ]
    },
    {
     "name": "stderr",
     "output_type": "stream",
     "text": [
      "Training Epoch 16: 100%|██████████| 150/150 [00:22<00:00,  6.70it/s, Batch=Batch_2400, Train Accuracy=0.950, Train Loss=0.158]\n",
      "Validation Epoch 16: 100%|██████████| 19/19 [00:03<00:00,  4.87it/s, Val Accuracy=0.930, Val Loss=0.157]\n"
     ]
    },
    {
     "name": "stdout",
     "output_type": "stream",
     "text": [
      "Train Loss: 0.1576 Train Acc: 0.9500 Valid Loss: 0.1569 Valid Acc: 0.9300\n",
      "Epoch 16/199\n",
      "----------\n"
     ]
    },
    {
     "name": "stderr",
     "output_type": "stream",
     "text": [
      "Training Epoch 17: 100%|██████████| 150/150 [00:22<00:00,  6.71it/s, Batch=Batch_2400, Train Accuracy=0.958, Train Loss=0.101]\n",
      "Validation Epoch 17: 100%|██████████| 19/19 [00:04<00:00,  4.62it/s, Val Accuracy=0.960, Val Loss=0.083]\n"
     ]
    },
    {
     "name": "stdout",
     "output_type": "stream",
     "text": [
      "Train Loss: 0.1013 Train Acc: 0.9583 Valid Loss: 0.0827 Valid Acc: 0.9600\n",
      "Epoch 17/199\n",
      "----------\n"
     ]
    },
    {
     "name": "stderr",
     "output_type": "stream",
     "text": [
      "Training Epoch 18: 100%|██████████| 150/150 [00:22<00:00,  6.69it/s, Batch=Batch_2400, Train Accuracy=0.966, Train Loss=0.081]\n",
      "Validation Epoch 18: 100%|██████████| 19/19 [00:03<00:00,  4.95it/s, Val Accuracy=0.980, Val Loss=0.052]\n"
     ]
    },
    {
     "name": "stdout",
     "output_type": "stream",
     "text": [
      "Train Loss: 0.0805 Train Acc: 0.9663 Valid Loss: 0.0522 Valid Acc: 0.9800\n",
      "Epoch 18/199\n",
      "----------\n"
     ]
    },
    {
     "name": "stderr",
     "output_type": "stream",
     "text": [
      "Training Epoch 19: 100%|██████████| 150/150 [00:22<00:00,  6.68it/s, Batch=Batch_2400, Train Accuracy=0.974, Train Loss=0.077]\n",
      "Validation Epoch 19: 100%|██████████| 19/19 [00:03<00:00,  4.92it/s, Val Accuracy=0.950, Val Loss=0.130]\n"
     ]
    },
    {
     "name": "stdout",
     "output_type": "stream",
     "text": [
      "Train Loss: 0.0773 Train Acc: 0.9738 Valid Loss: 0.1298 Valid Acc: 0.9500\n",
      "Epoch 19/199\n",
      "----------\n"
     ]
    },
    {
     "name": "stderr",
     "output_type": "stream",
     "text": [
      "Training Epoch 20: 100%|██████████| 150/150 [00:22<00:00,  6.63it/s, Batch=Batch_2400, Train Accuracy=0.976, Train Loss=0.082]\n",
      "Validation Epoch 20: 100%|██████████| 19/19 [00:04<00:00,  4.73it/s, Val Accuracy=0.953, Val Loss=0.122]\n"
     ]
    },
    {
     "name": "stdout",
     "output_type": "stream",
     "text": [
      "Train Loss: 0.0820 Train Acc: 0.9758 Valid Loss: 0.1220 Valid Acc: 0.9533\n",
      "Epoch 20/199\n",
      "----------\n"
     ]
    },
    {
     "name": "stderr",
     "output_type": "stream",
     "text": [
      "Training Epoch 21: 100%|██████████| 150/150 [00:22<00:00,  6.65it/s, Batch=Batch_2400, Train Accuracy=0.973, Train Loss=0.064]\n",
      "Validation Epoch 21: 100%|██████████| 19/19 [00:03<00:00,  4.90it/s, Val Accuracy=0.977, Val Loss=0.059]\n"
     ]
    },
    {
     "name": "stdout",
     "output_type": "stream",
     "text": [
      "Train Loss: 0.0644 Train Acc: 0.9733 Valid Loss: 0.0585 Valid Acc: 0.9767\n",
      "Epoch 21/199\n",
      "----------\n"
     ]
    },
    {
     "name": "stderr",
     "output_type": "stream",
     "text": [
      "Training Epoch 22: 100%|██████████| 150/150 [00:22<00:00,  6.67it/s, Batch=Batch_2400, Train Accuracy=0.980, Train Loss=0.051]\n",
      "Validation Epoch 22: 100%|██████████| 19/19 [00:03<00:00,  4.97it/s, Val Accuracy=0.970, Val Loss=0.083]\n"
     ]
    },
    {
     "name": "stdout",
     "output_type": "stream",
     "text": [
      "Train Loss: 0.0508 Train Acc: 0.9796 Valid Loss: 0.0830 Valid Acc: 0.9700\n",
      "Epoch 22/199\n",
      "----------\n"
     ]
    },
    {
     "name": "stderr",
     "output_type": "stream",
     "text": [
      "Training Epoch 23: 100%|██████████| 150/150 [00:22<00:00,  6.70it/s, Batch=Batch_2400, Train Accuracy=0.980, Train Loss=0.066]\n",
      "Validation Epoch 23: 100%|██████████| 19/19 [00:03<00:00,  4.91it/s, Val Accuracy=0.977, Val Loss=0.047]\n"
     ]
    },
    {
     "name": "stdout",
     "output_type": "stream",
     "text": [
      "Train Loss: 0.0656 Train Acc: 0.9804 Valid Loss: 0.0473 Valid Acc: 0.9767\n",
      "Epoch 23/199\n",
      "----------\n"
     ]
    },
    {
     "name": "stderr",
     "output_type": "stream",
     "text": [
      "Training Epoch 24: 100%|██████████| 150/150 [00:22<00:00,  6.70it/s, Batch=Batch_2400, Train Accuracy=0.979, Train Loss=0.070]\n",
      "Validation Epoch 24: 100%|██████████| 19/19 [00:03<00:00,  4.81it/s, Val Accuracy=0.977, Val Loss=0.074]\n"
     ]
    },
    {
     "name": "stdout",
     "output_type": "stream",
     "text": [
      "Train Loss: 0.0697 Train Acc: 0.9788 Valid Loss: 0.0740 Valid Acc: 0.9767\n",
      "Epoch 24/199\n",
      "----------\n"
     ]
    },
    {
     "name": "stderr",
     "output_type": "stream",
     "text": [
      "Training Epoch 25: 100%|██████████| 150/150 [00:22<00:00,  6.71it/s, Batch=Batch_2400, Train Accuracy=0.984, Train Loss=0.048]\n",
      "Validation Epoch 25: 100%|██████████| 19/19 [00:03<00:00,  4.96it/s, Val Accuracy=0.973, Val Loss=0.053]\n"
     ]
    },
    {
     "name": "stdout",
     "output_type": "stream",
     "text": [
      "Train Loss: 0.0476 Train Acc: 0.9842 Valid Loss: 0.0535 Valid Acc: 0.9733\n",
      "Epoch 25/199\n",
      "----------\n"
     ]
    },
    {
     "name": "stderr",
     "output_type": "stream",
     "text": [
      "Training Epoch 26: 100%|██████████| 150/150 [00:22<00:00,  6.71it/s, Batch=Batch_2400, Train Accuracy=0.991, Train Loss=0.028]\n",
      "Validation Epoch 26: 100%|██████████| 19/19 [00:03<00:00,  4.94it/s, Val Accuracy=0.983, Val Loss=0.038]\n"
     ]
    },
    {
     "name": "stdout",
     "output_type": "stream",
     "text": [
      "Train Loss: 0.0277 Train Acc: 0.9913 Valid Loss: 0.0378 Valid Acc: 0.9833\n",
      "Epoch 26/199\n",
      "----------\n"
     ]
    },
    {
     "name": "stderr",
     "output_type": "stream",
     "text": [
      "Training Epoch 27: 100%|██████████| 150/150 [00:22<00:00,  6.69it/s, Batch=Batch_2400, Train Accuracy=0.993, Train Loss=0.026]\n",
      "Validation Epoch 27: 100%|██████████| 19/19 [00:03<00:00,  4.81it/s, Val Accuracy=0.983, Val Loss=0.037]\n"
     ]
    },
    {
     "name": "stdout",
     "output_type": "stream",
     "text": [
      "Train Loss: 0.0264 Train Acc: 0.9925 Valid Loss: 0.0369 Valid Acc: 0.9833\n",
      "Epoch 27/199\n",
      "----------\n"
     ]
    },
    {
     "name": "stderr",
     "output_type": "stream",
     "text": [
      "Training Epoch 28: 100%|██████████| 150/150 [00:22<00:00,  6.69it/s, Batch=Batch_2400, Train Accuracy=0.994, Train Loss=0.022]\n",
      "Validation Epoch 28: 100%|██████████| 19/19 [00:03<00:00,  4.85it/s, Val Accuracy=0.980, Val Loss=0.035]\n"
     ]
    },
    {
     "name": "stdout",
     "output_type": "stream",
     "text": [
      "Train Loss: 0.0215 Train Acc: 0.9938 Valid Loss: 0.0351 Valid Acc: 0.9800\n",
      "Epoch 28/199\n",
      "----------\n"
     ]
    },
    {
     "name": "stderr",
     "output_type": "stream",
     "text": [
      "Training Epoch 29: 100%|██████████| 150/150 [00:22<00:00,  6.70it/s, Batch=Batch_2400, Train Accuracy=0.996, Train Loss=0.016]\n",
      "Validation Epoch 29: 100%|██████████| 19/19 [00:03<00:00,  5.03it/s, Val Accuracy=0.983, Val Loss=0.033]\n"
     ]
    },
    {
     "name": "stdout",
     "output_type": "stream",
     "text": [
      "Train Loss: 0.0157 Train Acc: 0.9963 Valid Loss: 0.0327 Valid Acc: 0.9833\n",
      "Epoch 29/199\n",
      "----------\n"
     ]
    },
    {
     "name": "stderr",
     "output_type": "stream",
     "text": [
      "Training Epoch 30: 100%|██████████| 150/150 [00:22<00:00,  6.71it/s, Batch=Batch_2400, Train Accuracy=0.994, Train Loss=0.019]\n",
      "Validation Epoch 30: 100%|██████████| 19/19 [00:03<00:00,  4.85it/s, Val Accuracy=0.990, Val Loss=0.029]\n"
     ]
    },
    {
     "name": "stdout",
     "output_type": "stream",
     "text": [
      "Train Loss: 0.0192 Train Acc: 0.9938 Valid Loss: 0.0289 Valid Acc: 0.9900\n",
      "Epoch 30/199\n",
      "----------\n"
     ]
    },
    {
     "name": "stderr",
     "output_type": "stream",
     "text": [
      "Training Epoch 31: 100%|██████████| 150/150 [00:22<00:00,  6.70it/s, Batch=Batch_2400, Train Accuracy=0.993, Train Loss=0.021]\n",
      "Validation Epoch 31: 100%|██████████| 19/19 [00:03<00:00,  4.85it/s, Val Accuracy=0.980, Val Loss=0.032]\n"
     ]
    },
    {
     "name": "stdout",
     "output_type": "stream",
     "text": [
      "Train Loss: 0.0212 Train Acc: 0.9925 Valid Loss: 0.0325 Valid Acc: 0.9800\n",
      "Epoch 31/199\n",
      "----------\n"
     ]
    },
    {
     "name": "stderr",
     "output_type": "stream",
     "text": [
      "Training Epoch 32: 100%|██████████| 150/150 [00:22<00:00,  6.69it/s, Batch=Batch_2400, Train Accuracy=0.997, Train Loss=0.013]\n",
      "Validation Epoch 32: 100%|██████████| 19/19 [00:03<00:00,  4.87it/s, Val Accuracy=0.977, Val Loss=0.040]\n"
     ]
    },
    {
     "name": "stdout",
     "output_type": "stream",
     "text": [
      "Train Loss: 0.0131 Train Acc: 0.9967 Valid Loss: 0.0400 Valid Acc: 0.9767\n",
      "Epoch 32/199\n",
      "----------\n"
     ]
    },
    {
     "name": "stderr",
     "output_type": "stream",
     "text": [
      "Training Epoch 33: 100%|██████████| 150/150 [00:22<00:00,  6.70it/s, Batch=Batch_2400, Train Accuracy=0.990, Train Loss=0.046]\n",
      "Validation Epoch 33: 100%|██████████| 19/19 [00:03<00:00,  5.00it/s, Val Accuracy=0.977, Val Loss=0.062]\n"
     ]
    },
    {
     "name": "stdout",
     "output_type": "stream",
     "text": [
      "Train Loss: 0.0462 Train Acc: 0.9904 Valid Loss: 0.0617 Valid Acc: 0.9767\n",
      "Epoch 33/199\n",
      "----------\n"
     ]
    },
    {
     "name": "stderr",
     "output_type": "stream",
     "text": [
      "Training Epoch 34: 100%|██████████| 150/150 [00:22<00:00,  6.70it/s, Batch=Batch_2400, Train Accuracy=0.995, Train Loss=0.019]\n",
      "Validation Epoch 34: 100%|██████████| 19/19 [00:03<00:00,  4.92it/s, Val Accuracy=0.983, Val Loss=0.041]\n"
     ]
    },
    {
     "name": "stdout",
     "output_type": "stream",
     "text": [
      "Train Loss: 0.0187 Train Acc: 0.9950 Valid Loss: 0.0406 Valid Acc: 0.9833\n",
      "Epoch 34/199\n",
      "----------\n"
     ]
    },
    {
     "name": "stderr",
     "output_type": "stream",
     "text": [
      "Training Epoch 35: 100%|██████████| 150/150 [00:22<00:00,  6.68it/s, Batch=Batch_2400, Train Accuracy=0.996, Train Loss=0.017]\n",
      "Validation Epoch 35: 100%|██████████| 19/19 [00:03<00:00,  4.85it/s, Val Accuracy=0.983, Val Loss=0.036]\n"
     ]
    },
    {
     "name": "stdout",
     "output_type": "stream",
     "text": [
      "Train Loss: 0.0168 Train Acc: 0.9958 Valid Loss: 0.0357 Valid Acc: 0.9833\n",
      "Epoch 35/199\n",
      "----------\n"
     ]
    },
    {
     "name": "stderr",
     "output_type": "stream",
     "text": [
      "Training Epoch 36: 100%|██████████| 150/150 [00:22<00:00,  6.53it/s, Batch=Batch_2400, Train Accuracy=0.998, Train Loss=0.012]\n",
      "Validation Epoch 36: 100%|██████████| 19/19 [00:04<00:00,  4.45it/s, Val Accuracy=0.983, Val Loss=0.039]\n"
     ]
    },
    {
     "name": "stdout",
     "output_type": "stream",
     "text": [
      "Train Loss: 0.0116 Train Acc: 0.9983 Valid Loss: 0.0395 Valid Acc: 0.9833\n",
      "Epoch 36/199\n",
      "----------\n"
     ]
    },
    {
     "name": "stderr",
     "output_type": "stream",
     "text": [
      "Training Epoch 37: 100%|██████████| 150/150 [00:23<00:00,  6.35it/s, Batch=Batch_2400, Train Accuracy=0.998, Train Loss=0.012]\n",
      "Validation Epoch 37: 100%|██████████| 19/19 [00:04<00:00,  4.35it/s, Val Accuracy=0.977, Val Loss=0.047]\n"
     ]
    },
    {
     "name": "stdout",
     "output_type": "stream",
     "text": [
      "Train Loss: 0.0117 Train Acc: 0.9979 Valid Loss: 0.0470 Valid Acc: 0.9767\n",
      "Epoch 37/199\n",
      "----------\n"
     ]
    },
    {
     "name": "stderr",
     "output_type": "stream",
     "text": [
      "Training Epoch 38: 100%|██████████| 150/150 [00:23<00:00,  6.30it/s, Batch=Batch_2400, Train Accuracy=0.997, Train Loss=0.014]\n",
      "Validation Epoch 38: 100%|██████████| 19/19 [00:04<00:00,  4.32it/s, Val Accuracy=0.980, Val Loss=0.034]\n"
     ]
    },
    {
     "name": "stdout",
     "output_type": "stream",
     "text": [
      "Train Loss: 0.0141 Train Acc: 0.9967 Valid Loss: 0.0345 Valid Acc: 0.9800\n",
      "Epoch 38/199\n",
      "----------\n"
     ]
    },
    {
     "name": "stderr",
     "output_type": "stream",
     "text": [
      "Training Epoch 39: 100%|██████████| 150/150 [00:23<00:00,  6.31it/s, Batch=Batch_2400, Train Accuracy=0.995, Train Loss=0.017]\n",
      "Validation Epoch 39: 100%|██████████| 19/19 [00:04<00:00,  4.31it/s, Val Accuracy=0.980, Val Loss=0.036]\n"
     ]
    },
    {
     "name": "stdout",
     "output_type": "stream",
     "text": [
      "Train Loss: 0.0165 Train Acc: 0.9950 Valid Loss: 0.0356 Valid Acc: 0.9800\n",
      "Epoch 39/199\n",
      "----------\n"
     ]
    },
    {
     "name": "stderr",
     "output_type": "stream",
     "text": [
      "Training Epoch 40: 100%|██████████| 150/150 [00:23<00:00,  6.35it/s, Batch=Batch_2400, Train Accuracy=0.995, Train Loss=0.015]\n",
      "Validation Epoch 40: 100%|██████████| 19/19 [00:04<00:00,  4.51it/s, Val Accuracy=0.977, Val Loss=0.035]\n"
     ]
    },
    {
     "name": "stdout",
     "output_type": "stream",
     "text": [
      "Train Loss: 0.0155 Train Acc: 0.9954 Valid Loss: 0.0350 Valid Acc: 0.9767\n",
      "Epoch 40/199\n",
      "----------\n"
     ]
    },
    {
     "name": "stderr",
     "output_type": "stream",
     "text": [
      "Training Epoch 41: 100%|██████████| 150/150 [00:23<00:00,  6.35it/s, Batch=Batch_2400, Train Accuracy=0.994, Train Loss=0.016]\n",
      "Validation Epoch 41: 100%|██████████| 19/19 [00:04<00:00,  4.40it/s, Val Accuracy=0.983, Val Loss=0.032]\n"
     ]
    },
    {
     "name": "stdout",
     "output_type": "stream",
     "text": [
      "Train Loss: 0.0163 Train Acc: 0.9942 Valid Loss: 0.0319 Valid Acc: 0.9833\n",
      "Epoch 41/199\n",
      "----------\n"
     ]
    },
    {
     "name": "stderr",
     "output_type": "stream",
     "text": [
      "Training Epoch 42: 100%|██████████| 150/150 [00:23<00:00,  6.38it/s, Batch=Batch_2400, Train Accuracy=1.000, Train Loss=0.010]\n",
      "Validation Epoch 42: 100%|██████████| 19/19 [00:04<00:00,  4.55it/s, Val Accuracy=0.983, Val Loss=0.038]\n"
     ]
    },
    {
     "name": "stdout",
     "output_type": "stream",
     "text": [
      "Train Loss: 0.0100 Train Acc: 0.9996 Valid Loss: 0.0383 Valid Acc: 0.9833\n",
      "Epoch 42/199\n",
      "----------\n"
     ]
    },
    {
     "name": "stderr",
     "output_type": "stream",
     "text": [
      "Training Epoch 43: 100%|██████████| 150/150 [00:23<00:00,  6.38it/s, Batch=Batch_2400, Train Accuracy=0.998, Train Loss=0.011]\n",
      "Validation Epoch 43: 100%|██████████| 19/19 [00:04<00:00,  4.55it/s, Val Accuracy=0.980, Val Loss=0.034]\n"
     ]
    },
    {
     "name": "stdout",
     "output_type": "stream",
     "text": [
      "Train Loss: 0.0113 Train Acc: 0.9975 Valid Loss: 0.0338 Valid Acc: 0.9800\n",
      "Epoch 43/199\n",
      "----------\n"
     ]
    },
    {
     "name": "stderr",
     "output_type": "stream",
     "text": [
      "Training Epoch 44: 100%|██████████| 150/150 [00:23<00:00,  6.40it/s, Batch=Batch_2400, Train Accuracy=0.997, Train Loss=0.010]\n",
      "Validation Epoch 44: 100%|██████████| 19/19 [00:04<00:00,  4.43it/s, Val Accuracy=0.987, Val Loss=0.031]\n"
     ]
    },
    {
     "name": "stdout",
     "output_type": "stream",
     "text": [
      "Train Loss: 0.0102 Train Acc: 0.9971 Valid Loss: 0.0314 Valid Acc: 0.9867\n",
      "Epoch 44/199\n",
      "----------\n"
     ]
    },
    {
     "name": "stderr",
     "output_type": "stream",
     "text": [
      "Training Epoch 45: 100%|██████████| 150/150 [00:23<00:00,  6.39it/s, Batch=Batch_2400, Train Accuracy=0.995, Train Loss=0.014]\n",
      "Validation Epoch 45: 100%|██████████| 19/19 [00:04<00:00,  4.06it/s, Val Accuracy=0.977, Val Loss=0.036]\n"
     ]
    },
    {
     "name": "stdout",
     "output_type": "stream",
     "text": [
      "Train Loss: 0.0142 Train Acc: 0.9950 Valid Loss: 0.0364 Valid Acc: 0.9767\n",
      "Epoch 45/199\n",
      "----------\n"
     ]
    },
    {
     "name": "stderr",
     "output_type": "stream",
     "text": [
      "Training Epoch 46: 100%|██████████| 150/150 [00:23<00:00,  6.29it/s, Batch=Batch_2400, Train Accuracy=0.993, Train Loss=0.020]\n",
      "Validation Epoch 46: 100%|██████████| 19/19 [00:04<00:00,  4.21it/s, Val Accuracy=0.980, Val Loss=0.036]\n"
     ]
    },
    {
     "name": "stdout",
     "output_type": "stream",
     "text": [
      "Train Loss: 0.0204 Train Acc: 0.9933 Valid Loss: 0.0363 Valid Acc: 0.9800\n",
      "Epoch 46/199\n",
      "----------\n"
     ]
    },
    {
     "name": "stderr",
     "output_type": "stream",
     "text": [
      "Training Epoch 47: 100%|██████████| 150/150 [00:23<00:00,  6.35it/s, Batch=Batch_2400, Train Accuracy=0.989, Train Loss=0.037]\n",
      "Validation Epoch 47: 100%|██████████| 19/19 [00:04<00:00,  4.49it/s, Val Accuracy=0.977, Val Loss=0.051]\n"
     ]
    },
    {
     "name": "stdout",
     "output_type": "stream",
     "text": [
      "Train Loss: 0.0372 Train Acc: 0.9888 Valid Loss: 0.0514 Valid Acc: 0.9767\n",
      "Epoch 47/199\n",
      "----------\n"
     ]
    },
    {
     "name": "stderr",
     "output_type": "stream",
     "text": [
      "Training Epoch 48: 100%|██████████| 150/150 [00:23<00:00,  6.29it/s, Batch=Batch_2400, Train Accuracy=0.995, Train Loss=0.015]\n",
      "Validation Epoch 48: 100%|██████████| 19/19 [00:04<00:00,  4.16it/s, Val Accuracy=0.977, Val Loss=0.039]\n"
     ]
    },
    {
     "name": "stdout",
     "output_type": "stream",
     "text": [
      "Train Loss: 0.0154 Train Acc: 0.9950 Valid Loss: 0.0394 Valid Acc: 0.9767\n",
      "Epoch 48/199\n",
      "----------\n"
     ]
    },
    {
     "name": "stderr",
     "output_type": "stream",
     "text": [
      "Training Epoch 49: 100%|██████████| 150/150 [00:23<00:00,  6.28it/s, Batch=Batch_2400, Train Accuracy=0.994, Train Loss=0.020]\n",
      "Validation Epoch 49: 100%|██████████| 19/19 [00:04<00:00,  4.40it/s, Val Accuracy=0.993, Val Loss=0.032]\n"
     ]
    },
    {
     "name": "stdout",
     "output_type": "stream",
     "text": [
      "Train Loss: 0.0198 Train Acc: 0.9942 Valid Loss: 0.0315 Valid Acc: 0.9933\n",
      "Epoch 49/199\n",
      "----------\n"
     ]
    },
    {
     "name": "stderr",
     "output_type": "stream",
     "text": [
      "Training Epoch 50: 100%|██████████| 150/150 [00:23<00:00,  6.36it/s, Batch=Batch_2400, Train Accuracy=0.995, Train Loss=0.017]\n",
      "Validation Epoch 50: 100%|██████████| 19/19 [00:04<00:00,  4.56it/s, Val Accuracy=0.980, Val Loss=0.047]\n"
     ]
    },
    {
     "name": "stdout",
     "output_type": "stream",
     "text": [
      "Train Loss: 0.0174 Train Acc: 0.9950 Valid Loss: 0.0466 Valid Acc: 0.9800\n",
      "Epoch 50/199\n",
      "----------\n"
     ]
    },
    {
     "name": "stderr",
     "output_type": "stream",
     "text": [
      "Training Epoch 51: 100%|██████████| 150/150 [00:23<00:00,  6.38it/s, Batch=Batch_2400, Train Accuracy=0.995, Train Loss=0.016]\n",
      "Validation Epoch 51: 100%|██████████| 19/19 [00:04<00:00,  4.28it/s, Val Accuracy=0.983, Val Loss=0.036]\n"
     ]
    },
    {
     "name": "stdout",
     "output_type": "stream",
     "text": [
      "Train Loss: 0.0161 Train Acc: 0.9954 Valid Loss: 0.0362 Valid Acc: 0.9833\n",
      "Epoch 51/199\n",
      "----------\n"
     ]
    },
    {
     "name": "stderr",
     "output_type": "stream",
     "text": [
      "Training Epoch 52: 100%|██████████| 150/150 [00:23<00:00,  6.30it/s, Batch=Batch_2400, Train Accuracy=0.992, Train Loss=0.049]\n",
      "Validation Epoch 52: 100%|██████████| 19/19 [00:04<00:00,  4.45it/s, Val Accuracy=0.983, Val Loss=0.039]\n"
     ]
    },
    {
     "name": "stdout",
     "output_type": "stream",
     "text": [
      "Train Loss: 0.0488 Train Acc: 0.9917 Valid Loss: 0.0387 Valid Acc: 0.9833\n",
      "Epoch 52/199\n",
      "----------\n"
     ]
    },
    {
     "name": "stderr",
     "output_type": "stream",
     "text": [
      "Training Epoch 53: 100%|██████████| 150/150 [00:23<00:00,  6.33it/s, Batch=Batch_2400, Train Accuracy=0.993, Train Loss=0.021]\n",
      "Validation Epoch 53: 100%|██████████| 19/19 [00:04<00:00,  4.32it/s, Val Accuracy=0.983, Val Loss=0.029]\n"
     ]
    },
    {
     "name": "stdout",
     "output_type": "stream",
     "text": [
      "Train Loss: 0.0205 Train Acc: 0.9933 Valid Loss: 0.0294 Valid Acc: 0.9833\n",
      "Epoch 53/199\n",
      "----------\n"
     ]
    },
    {
     "name": "stderr",
     "output_type": "stream",
     "text": [
      "Training Epoch 54: 100%|██████████| 150/150 [00:23<00:00,  6.33it/s, Batch=Batch_2400, Train Accuracy=0.996, Train Loss=0.018]\n",
      "Validation Epoch 54: 100%|██████████| 19/19 [00:04<00:00,  4.49it/s, Val Accuracy=0.977, Val Loss=0.041]\n"
     ]
    },
    {
     "name": "stdout",
     "output_type": "stream",
     "text": [
      "Train Loss: 0.0179 Train Acc: 0.9958 Valid Loss: 0.0415 Valid Acc: 0.9767\n",
      "Epoch 54/199\n",
      "----------\n"
     ]
    },
    {
     "name": "stderr",
     "output_type": "stream",
     "text": [
      "Training Epoch 55: 100%|██████████| 150/150 [00:23<00:00,  6.32it/s, Batch=Batch_2400, Train Accuracy=0.995, Train Loss=0.020]\n",
      "Validation Epoch 55: 100%|██████████| 19/19 [00:04<00:00,  4.48it/s, Val Accuracy=0.977, Val Loss=0.052]\n"
     ]
    },
    {
     "name": "stdout",
     "output_type": "stream",
     "text": [
      "Train Loss: 0.0202 Train Acc: 0.9950 Valid Loss: 0.0518 Valid Acc: 0.9767\n",
      "Epoch 55/199\n",
      "----------\n"
     ]
    },
    {
     "name": "stderr",
     "output_type": "stream",
     "text": [
      "Training Epoch 56: 100%|██████████| 150/150 [00:23<00:00,  6.34it/s, Batch=Batch_2400, Train Accuracy=0.996, Train Loss=0.016]\n",
      "Validation Epoch 56: 100%|██████████| 19/19 [00:04<00:00,  4.51it/s, Val Accuracy=0.977, Val Loss=0.045]\n"
     ]
    },
    {
     "name": "stdout",
     "output_type": "stream",
     "text": [
      "Train Loss: 0.0163 Train Acc: 0.9958 Valid Loss: 0.0445 Valid Acc: 0.9767\n",
      "Epoch 56/199\n",
      "----------\n"
     ]
    },
    {
     "name": "stderr",
     "output_type": "stream",
     "text": [
      "Training Epoch 57: 100%|██████████| 150/150 [00:23<00:00,  6.34it/s, Batch=Batch_2400, Train Accuracy=0.995, Train Loss=0.016]\n",
      "Validation Epoch 57: 100%|██████████| 19/19 [00:04<00:00,  4.42it/s, Val Accuracy=0.970, Val Loss=0.090]\n"
     ]
    },
    {
     "name": "stdout",
     "output_type": "stream",
     "text": [
      "Train Loss: 0.0159 Train Acc: 0.9946 Valid Loss: 0.0901 Valid Acc: 0.9700\n",
      "Epoch 57/199\n",
      "----------\n"
     ]
    },
    {
     "name": "stderr",
     "output_type": "stream",
     "text": [
      "Training Epoch 58: 100%|██████████| 150/150 [00:23<00:00,  6.33it/s, Batch=Batch_2400, Train Accuracy=0.996, Train Loss=0.014]\n",
      "Validation Epoch 58: 100%|██████████| 19/19 [00:04<00:00,  4.52it/s, Val Accuracy=0.977, Val Loss=0.048]\n"
     ]
    },
    {
     "name": "stdout",
     "output_type": "stream",
     "text": [
      "Train Loss: 0.0142 Train Acc: 0.9958 Valid Loss: 0.0478 Valid Acc: 0.9767\n",
      "Epoch 58/199\n",
      "----------\n"
     ]
    },
    {
     "name": "stderr",
     "output_type": "stream",
     "text": [
      "Training Epoch 59: 100%|██████████| 150/150 [00:23<00:00,  6.32it/s, Batch=Batch_2400, Train Accuracy=0.992, Train Loss=0.024]\n",
      "Validation Epoch 59: 100%|██████████| 19/19 [00:04<00:00,  4.54it/s, Val Accuracy=0.980, Val Loss=0.061]\n"
     ]
    },
    {
     "name": "stdout",
     "output_type": "stream",
     "text": [
      "Train Loss: 0.0241 Train Acc: 0.9917 Valid Loss: 0.0612 Valid Acc: 0.9800\n",
      "Epoch 59/199\n",
      "----------\n"
     ]
    },
    {
     "name": "stderr",
     "output_type": "stream",
     "text": [
      "Training Epoch 60: 100%|██████████| 150/150 [00:23<00:00,  6.34it/s, Batch=Batch_2400, Train Accuracy=0.989, Train Loss=0.040]\n",
      "Validation Epoch 60: 100%|██████████| 19/19 [00:04<00:00,  4.54it/s, Val Accuracy=0.973, Val Loss=0.057]\n"
     ]
    },
    {
     "name": "stdout",
     "output_type": "stream",
     "text": [
      "Train Loss: 0.0401 Train Acc: 0.9892 Valid Loss: 0.0570 Valid Acc: 0.9733\n",
      "Epoch 60/199\n",
      "----------\n"
     ]
    },
    {
     "name": "stderr",
     "output_type": "stream",
     "text": [
      "Training Epoch 61: 100%|██████████| 150/150 [00:23<00:00,  6.30it/s, Batch=Batch_2400, Train Accuracy=0.976, Train Loss=0.087]\n",
      "Validation Epoch 61: 100%|██████████| 19/19 [00:04<00:00,  4.40it/s, Val Accuracy=0.980, Val Loss=0.075]\n"
     ]
    },
    {
     "name": "stdout",
     "output_type": "stream",
     "text": [
      "Train Loss: 0.0866 Train Acc: 0.9763 Valid Loss: 0.0748 Valid Acc: 0.9800\n",
      "Epoch 61/199\n",
      "----------\n"
     ]
    },
    {
     "name": "stderr",
     "output_type": "stream",
     "text": [
      "Training Epoch 62: 100%|██████████| 150/150 [00:23<00:00,  6.34it/s, Batch=Batch_2400, Train Accuracy=0.989, Train Loss=0.032]\n",
      "Validation Epoch 62: 100%|██████████| 19/19 [00:04<00:00,  4.48it/s, Val Accuracy=0.977, Val Loss=0.046]\n"
     ]
    },
    {
     "name": "stdout",
     "output_type": "stream",
     "text": [
      "Train Loss: 0.0322 Train Acc: 0.9888 Valid Loss: 0.0456 Valid Acc: 0.9767\n",
      "Epoch 62/199\n",
      "----------\n"
     ]
    },
    {
     "name": "stderr",
     "output_type": "stream",
     "text": [
      "Training Epoch 63: 100%|██████████| 150/150 [00:23<00:00,  6.30it/s, Batch=Batch_2400, Train Accuracy=0.982, Train Loss=0.048]\n",
      "Validation Epoch 63: 100%|██████████| 19/19 [00:04<00:00,  4.50it/s, Val Accuracy=0.987, Val Loss=0.053]\n"
     ]
    },
    {
     "name": "stdout",
     "output_type": "stream",
     "text": [
      "Train Loss: 0.0477 Train Acc: 0.9817 Valid Loss: 0.0531 Valid Acc: 0.9867\n",
      "Epoch 63/199\n",
      "----------\n"
     ]
    },
    {
     "name": "stderr",
     "output_type": "stream",
     "text": [
      "Training Epoch 64: 100%|██████████| 150/150 [00:23<00:00,  6.32it/s, Batch=Batch_2400, Train Accuracy=0.983, Train Loss=0.047]\n",
      "Validation Epoch 64: 100%|██████████| 19/19 [00:04<00:00,  4.44it/s, Val Accuracy=0.987, Val Loss=0.093]\n"
     ]
    },
    {
     "name": "stdout",
     "output_type": "stream",
     "text": [
      "Train Loss: 0.0472 Train Acc: 0.9829 Valid Loss: 0.0927 Valid Acc: 0.9867\n",
      "Epoch 64/199\n",
      "----------\n"
     ]
    },
    {
     "name": "stderr",
     "output_type": "stream",
     "text": [
      "Training Epoch 65: 100%|██████████| 150/150 [00:23<00:00,  6.32it/s, Batch=Batch_2400, Train Accuracy=0.984, Train Loss=0.044]\n",
      "Validation Epoch 65: 100%|██████████| 19/19 [00:04<00:00,  4.40it/s, Val Accuracy=0.963, Val Loss=0.112]\n"
     ]
    },
    {
     "name": "stdout",
     "output_type": "stream",
     "text": [
      "Train Loss: 0.0444 Train Acc: 0.9838 Valid Loss: 0.1124 Valid Acc: 0.9633\n",
      "Epoch 65/199\n",
      "----------\n"
     ]
    },
    {
     "name": "stderr",
     "output_type": "stream",
     "text": [
      "Training Epoch 66: 100%|██████████| 150/150 [00:23<00:00,  6.31it/s, Batch=Batch_2400, Train Accuracy=0.985, Train Loss=0.044]\n",
      "Validation Epoch 66: 100%|██████████| 19/19 [00:04<00:00,  4.53it/s, Val Accuracy=0.980, Val Loss=0.060]\n"
     ]
    },
    {
     "name": "stdout",
     "output_type": "stream",
     "text": [
      "Train Loss: 0.0440 Train Acc: 0.9850 Valid Loss: 0.0600 Valid Acc: 0.9800\n",
      "Epoch 66/199\n",
      "----------\n"
     ]
    },
    {
     "name": "stderr",
     "output_type": "stream",
     "text": [
      "Training Epoch 67: 100%|██████████| 150/150 [00:23<00:00,  6.29it/s, Batch=Batch_2400, Train Accuracy=0.989, Train Loss=0.038]\n",
      "Validation Epoch 67: 100%|██████████| 19/19 [00:04<00:00,  4.43it/s, Val Accuracy=0.980, Val Loss=0.064]\n"
     ]
    },
    {
     "name": "stdout",
     "output_type": "stream",
     "text": [
      "Train Loss: 0.0378 Train Acc: 0.9892 Valid Loss: 0.0639 Valid Acc: 0.9800\n",
      "Epoch 67/199\n",
      "----------\n"
     ]
    },
    {
     "name": "stderr",
     "output_type": "stream",
     "text": [
      "Training Epoch 68: 100%|██████████| 150/150 [00:23<00:00,  6.32it/s, Batch=Batch_2400, Train Accuracy=0.983, Train Loss=0.040]\n",
      "Validation Epoch 68: 100%|██████████| 19/19 [00:04<00:00,  4.52it/s, Val Accuracy=0.950, Val Loss=0.234]\n"
     ]
    },
    {
     "name": "stdout",
     "output_type": "stream",
     "text": [
      "Train Loss: 0.0400 Train Acc: 0.9833 Valid Loss: 0.2337 Valid Acc: 0.9500\n",
      "Epoch 68/199\n",
      "----------\n"
     ]
    },
    {
     "name": "stderr",
     "output_type": "stream",
     "text": [
      "Training Epoch 69: 100%|██████████| 150/150 [00:23<00:00,  6.32it/s, Batch=Batch_2400, Train Accuracy=0.976, Train Loss=0.073]\n",
      "Validation Epoch 69: 100%|██████████| 19/19 [00:04<00:00,  4.43it/s, Val Accuracy=0.963, Val Loss=0.101]\n"
     ]
    },
    {
     "name": "stdout",
     "output_type": "stream",
     "text": [
      "Train Loss: 0.0730 Train Acc: 0.9758 Valid Loss: 0.1007 Valid Acc: 0.9633\n",
      "Epoch 69/199\n",
      "----------\n"
     ]
    },
    {
     "name": "stderr",
     "output_type": "stream",
     "text": [
      "Training Epoch 70: 100%|██████████| 150/150 [00:23<00:00,  6.29it/s, Batch=Batch_2400, Train Accuracy=0.982, Train Loss=0.050]\n",
      "Validation Epoch 70: 100%|██████████| 19/19 [00:04<00:00,  4.42it/s, Val Accuracy=0.960, Val Loss=0.111]\n"
     ]
    },
    {
     "name": "stdout",
     "output_type": "stream",
     "text": [
      "Train Loss: 0.0497 Train Acc: 0.9817 Valid Loss: 0.1109 Valid Acc: 0.9600\n",
      "Epoch 70/199\n",
      "----------\n"
     ]
    },
    {
     "name": "stderr",
     "output_type": "stream",
     "text": [
      "Training Epoch 71: 100%|██████████| 150/150 [00:23<00:00,  6.29it/s, Batch=Batch_2400, Train Accuracy=0.965, Train Loss=0.087]\n",
      "Validation Epoch 71: 100%|██████████| 19/19 [00:04<00:00,  4.53it/s, Val Accuracy=0.940, Val Loss=0.132]\n"
     ]
    },
    {
     "name": "stdout",
     "output_type": "stream",
     "text": [
      "Train Loss: 0.0871 Train Acc: 0.9654 Valid Loss: 0.1324 Valid Acc: 0.9400\n",
      "Epoch 71/199\n",
      "----------\n"
     ]
    },
    {
     "name": "stderr",
     "output_type": "stream",
     "text": [
      "Training Epoch 72: 100%|██████████| 150/150 [00:23<00:00,  6.29it/s, Batch=Batch_2400, Train Accuracy=0.980, Train Loss=0.059]\n",
      "Validation Epoch 72: 100%|██████████| 19/19 [00:04<00:00,  4.53it/s, Val Accuracy=0.973, Val Loss=0.060]\n"
     ]
    },
    {
     "name": "stdout",
     "output_type": "stream",
     "text": [
      "Train Loss: 0.0587 Train Acc: 0.9796 Valid Loss: 0.0601 Valid Acc: 0.9733\n",
      "Epoch 72/199\n",
      "----------\n"
     ]
    },
    {
     "name": "stderr",
     "output_type": "stream",
     "text": [
      "Training Epoch 73: 100%|██████████| 150/150 [00:23<00:00,  6.33it/s, Batch=Batch_2400, Train Accuracy=0.982, Train Loss=0.047]\n",
      "Validation Epoch 73: 100%|██████████| 19/19 [00:04<00:00,  4.29it/s, Val Accuracy=0.960, Val Loss=0.086]\n"
     ]
    },
    {
     "name": "stdout",
     "output_type": "stream",
     "text": [
      "Train Loss: 0.0471 Train Acc: 0.9821 Valid Loss: 0.0864 Valid Acc: 0.9600\n",
      "Epoch 73/199\n",
      "----------\n"
     ]
    },
    {
     "name": "stderr",
     "output_type": "stream",
     "text": [
      "Training Epoch 74: 100%|██████████| 150/150 [00:23<00:00,  6.30it/s, Batch=Batch_2400, Train Accuracy=0.972, Train Loss=0.076]\n",
      "Validation Epoch 74: 100%|██████████| 19/19 [00:04<00:00,  4.42it/s, Val Accuracy=0.933, Val Loss=0.192]\n"
     ]
    },
    {
     "name": "stdout",
     "output_type": "stream",
     "text": [
      "Train Loss: 0.0757 Train Acc: 0.9721 Valid Loss: 0.1915 Valid Acc: 0.9333\n",
      "Epoch 74/199\n",
      "----------\n"
     ]
    },
    {
     "name": "stderr",
     "output_type": "stream",
     "text": [
      "Training Epoch 75: 100%|██████████| 150/150 [00:23<00:00,  6.29it/s, Batch=Batch_2400, Train Accuracy=0.983, Train Loss=0.051]\n",
      "Validation Epoch 75: 100%|██████████| 19/19 [00:04<00:00,  4.50it/s, Val Accuracy=0.980, Val Loss=0.052]\n"
     ]
    },
    {
     "name": "stdout",
     "output_type": "stream",
     "text": [
      "Train Loss: 0.0506 Train Acc: 0.9829 Valid Loss: 0.0519 Valid Acc: 0.9800\n",
      "Epoch 75/199\n",
      "----------\n"
     ]
    },
    {
     "name": "stderr",
     "output_type": "stream",
     "text": [
      "Training Epoch 76: 100%|██████████| 150/150 [00:23<00:00,  6.33it/s, Batch=Batch_2400, Train Accuracy=0.986, Train Loss=0.035]\n",
      "Validation Epoch 76: 100%|██████████| 19/19 [00:04<00:00,  4.47it/s, Val Accuracy=0.967, Val Loss=0.109]\n"
     ]
    },
    {
     "name": "stdout",
     "output_type": "stream",
     "text": [
      "Train Loss: 0.0353 Train Acc: 0.9863 Valid Loss: 0.1095 Valid Acc: 0.9667\n",
      "Epoch 76/199\n",
      "----------\n"
     ]
    },
    {
     "name": "stderr",
     "output_type": "stream",
     "text": [
      "Training Epoch 77: 100%|██████████| 150/150 [00:23<00:00,  6.34it/s, Batch=Batch_2400, Train Accuracy=0.983, Train Loss=0.048]\n",
      "Validation Epoch 77: 100%|██████████| 19/19 [00:04<00:00,  4.38it/s, Val Accuracy=0.983, Val Loss=0.059]\n"
     ]
    },
    {
     "name": "stdout",
     "output_type": "stream",
     "text": [
      "Train Loss: 0.0482 Train Acc: 0.9833 Valid Loss: 0.0586 Valid Acc: 0.9833\n",
      "Epoch 77/199\n",
      "----------\n"
     ]
    },
    {
     "name": "stderr",
     "output_type": "stream",
     "text": [
      "Training Epoch 78: 100%|██████████| 150/150 [00:23<00:00,  6.33it/s, Batch=Batch_2400, Train Accuracy=0.985, Train Loss=0.062]\n",
      "Validation Epoch 78: 100%|██████████| 19/19 [00:04<00:00,  4.57it/s, Val Accuracy=0.980, Val Loss=0.048]\n"
     ]
    },
    {
     "name": "stdout",
     "output_type": "stream",
     "text": [
      "Train Loss: 0.0620 Train Acc: 0.9850 Valid Loss: 0.0482 Valid Acc: 0.9800\n",
      "Epoch 78/199\n",
      "----------\n"
     ]
    },
    {
     "name": "stderr",
     "output_type": "stream",
     "text": [
      "Training Epoch 79: 100%|██████████| 150/150 [00:23<00:00,  6.28it/s, Batch=Batch_2400, Train Accuracy=0.989, Train Loss=0.035]\n",
      "Validation Epoch 79: 100%|██████████| 19/19 [00:04<00:00,  4.55it/s, Val Accuracy=0.843, Val Loss=0.510]\n"
     ]
    },
    {
     "name": "stdout",
     "output_type": "stream",
     "text": [
      "Train Loss: 0.0353 Train Acc: 0.9888 Valid Loss: 0.5100 Valid Acc: 0.8433\n",
      "Epoch 79/199\n",
      "----------\n"
     ]
    },
    {
     "name": "stderr",
     "output_type": "stream",
     "text": [
      "Training Epoch 80: 100%|██████████| 150/150 [00:23<00:00,  6.34it/s, Batch=Batch_2400, Train Accuracy=0.978, Train Loss=0.060]\n",
      "Validation Epoch 80: 100%|██████████| 19/19 [00:04<00:00,  4.58it/s, Val Accuracy=0.980, Val Loss=0.054]\n"
     ]
    },
    {
     "name": "stdout",
     "output_type": "stream",
     "text": [
      "Train Loss: 0.0597 Train Acc: 0.9783 Valid Loss: 0.0535 Valid Acc: 0.9800\n",
      "Epoch 80/199\n",
      "----------\n"
     ]
    },
    {
     "name": "stderr",
     "output_type": "stream",
     "text": [
      "Training Epoch 81: 100%|██████████| 150/150 [00:23<00:00,  6.33it/s, Batch=Batch_2400, Train Accuracy=0.991, Train Loss=0.025]\n",
      "Validation Epoch 81: 100%|██████████| 19/19 [00:04<00:00,  4.66it/s, Val Accuracy=0.970, Val Loss=0.072]\n"
     ]
    },
    {
     "name": "stdout",
     "output_type": "stream",
     "text": [
      "Train Loss: 0.0251 Train Acc: 0.9913 Valid Loss: 0.0718 Valid Acc: 0.9700\n",
      "Epoch 81/199\n",
      "----------\n"
     ]
    },
    {
     "name": "stderr",
     "output_type": "stream",
     "text": [
      "Training Epoch 82: 100%|██████████| 150/150 [00:23<00:00,  6.39it/s, Batch=Batch_2400, Train Accuracy=0.995, Train Loss=0.016]\n",
      "Validation Epoch 82: 100%|██████████| 19/19 [00:04<00:00,  4.44it/s, Val Accuracy=0.987, Val Loss=0.028]\n"
     ]
    },
    {
     "name": "stdout",
     "output_type": "stream",
     "text": [
      "Train Loss: 0.0157 Train Acc: 0.9950 Valid Loss: 0.0279 Valid Acc: 0.9867\n",
      "Epoch 82/199\n",
      "----------\n"
     ]
    },
    {
     "name": "stderr",
     "output_type": "stream",
     "text": [
      "Training Epoch 83: 100%|██████████| 150/150 [00:23<00:00,  6.40it/s, Batch=Batch_2400, Train Accuracy=0.990, Train Loss=0.028]\n",
      "Validation Epoch 83: 100%|██████████| 19/19 [00:04<00:00,  4.37it/s, Val Accuracy=0.963, Val Loss=0.093]\n"
     ]
    },
    {
     "name": "stdout",
     "output_type": "stream",
     "text": [
      "Train Loss: 0.0277 Train Acc: 0.9896 Valid Loss: 0.0927 Valid Acc: 0.9633\n",
      "Epoch 83/199\n",
      "----------\n"
     ]
    },
    {
     "name": "stderr",
     "output_type": "stream",
     "text": [
      "Training Epoch 84: 100%|██████████| 150/150 [00:23<00:00,  6.25it/s, Batch=Batch_2400, Train Accuracy=0.998, Train Loss=0.009]\n",
      "Validation Epoch 84: 100%|██████████| 19/19 [00:04<00:00,  4.42it/s, Val Accuracy=0.977, Val Loss=0.062]\n"
     ]
    },
    {
     "name": "stdout",
     "output_type": "stream",
     "text": [
      "Train Loss: 0.0093 Train Acc: 0.9975 Valid Loss: 0.0623 Valid Acc: 0.9767\n",
      "Epoch 84/199\n",
      "----------\n"
     ]
    },
    {
     "name": "stderr",
     "output_type": "stream",
     "text": [
      "Training Epoch 85: 100%|██████████| 150/150 [00:23<00:00,  6.29it/s, Batch=Batch_2400, Train Accuracy=0.991, Train Loss=0.045]\n",
      "Validation Epoch 85: 100%|██████████| 19/19 [00:04<00:00,  4.38it/s, Val Accuracy=0.943, Val Loss=0.176]\n"
     ]
    },
    {
     "name": "stdout",
     "output_type": "stream",
     "text": [
      "Train Loss: 0.0452 Train Acc: 0.9913 Valid Loss: 0.1760 Valid Acc: 0.9433\n",
      "Epoch 85/199\n",
      "----------\n"
     ]
    },
    {
     "name": "stderr",
     "output_type": "stream",
     "text": [
      "Training Epoch 86: 100%|██████████| 150/150 [00:23<00:00,  6.29it/s, Batch=Batch_2400, Train Accuracy=0.990, Train Loss=0.029]\n",
      "Validation Epoch 86: 100%|██████████| 19/19 [00:04<00:00,  4.45it/s, Val Accuracy=0.933, Val Loss=0.217]\n"
     ]
    },
    {
     "name": "stdout",
     "output_type": "stream",
     "text": [
      "Train Loss: 0.0292 Train Acc: 0.9904 Valid Loss: 0.2168 Valid Acc: 0.9333\n",
      "Epoch 86/199\n",
      "----------\n"
     ]
    },
    {
     "name": "stderr",
     "output_type": "stream",
     "text": [
      "Training Epoch 87: 100%|██████████| 150/150 [00:23<00:00,  6.35it/s, Batch=Batch_2400, Train Accuracy=0.991, Train Loss=0.029]\n",
      "Validation Epoch 87: 100%|██████████| 19/19 [00:04<00:00,  4.63it/s, Val Accuracy=0.980, Val Loss=0.083]\n"
     ]
    },
    {
     "name": "stdout",
     "output_type": "stream",
     "text": [
      "Train Loss: 0.0291 Train Acc: 0.9908 Valid Loss: 0.0829 Valid Acc: 0.9800\n",
      "Epoch 87/199\n",
      "----------\n"
     ]
    },
    {
     "name": "stderr",
     "output_type": "stream",
     "text": [
      "Training Epoch 88: 100%|██████████| 150/150 [00:23<00:00,  6.39it/s, Batch=Batch_2400, Train Accuracy=0.996, Train Loss=0.010]\n",
      "Validation Epoch 88: 100%|██████████| 19/19 [00:03<00:00,  4.80it/s, Val Accuracy=0.983, Val Loss=0.088]\n"
     ]
    },
    {
     "name": "stdout",
     "output_type": "stream",
     "text": [
      "Train Loss: 0.0103 Train Acc: 0.9958 Valid Loss: 0.0882 Valid Acc: 0.9833\n",
      "Epoch 88/199\n",
      "----------\n"
     ]
    },
    {
     "name": "stderr",
     "output_type": "stream",
     "text": [
      "Training Epoch 89: 100%|██████████| 150/150 [00:23<00:00,  6.43it/s, Batch=Batch_2400, Train Accuracy=0.996, Train Loss=0.009]\n",
      "Validation Epoch 89: 100%|██████████| 19/19 [00:04<00:00,  4.23it/s, Val Accuracy=0.983, Val Loss=0.055]\n"
     ]
    },
    {
     "name": "stdout",
     "output_type": "stream",
     "text": [
      "Train Loss: 0.0089 Train Acc: 0.9963 Valid Loss: 0.0553 Valid Acc: 0.9833\n",
      "Epoch 89/199\n",
      "----------\n"
     ]
    },
    {
     "name": "stderr",
     "output_type": "stream",
     "text": [
      "Training Epoch 90: 100%|██████████| 150/150 [00:24<00:00,  6.20it/s, Batch=Batch_2400, Train Accuracy=0.998, Train Loss=0.008]\n",
      "Validation Epoch 90: 100%|██████████| 19/19 [00:04<00:00,  4.32it/s, Val Accuracy=0.977, Val Loss=0.064]\n"
     ]
    },
    {
     "name": "stdout",
     "output_type": "stream",
     "text": [
      "Train Loss: 0.0084 Train Acc: 0.9983 Valid Loss: 0.0641 Valid Acc: 0.9767\n",
      "Epoch 90/199\n",
      "----------\n"
     ]
    },
    {
     "name": "stderr",
     "output_type": "stream",
     "text": [
      "Training Epoch 91: 100%|██████████| 150/150 [00:23<00:00,  6.29it/s, Batch=Batch_2400, Train Accuracy=0.996, Train Loss=0.014]\n",
      "Validation Epoch 91: 100%|██████████| 19/19 [00:04<00:00,  4.40it/s, Val Accuracy=0.990, Val Loss=0.037]\n"
     ]
    },
    {
     "name": "stdout",
     "output_type": "stream",
     "text": [
      "Train Loss: 0.0139 Train Acc: 0.9958 Valid Loss: 0.0365 Valid Acc: 0.9900\n",
      "Epoch 91/199\n",
      "----------\n"
     ]
    },
    {
     "name": "stderr",
     "output_type": "stream",
     "text": [
      "Training Epoch 92: 100%|██████████| 150/150 [00:23<00:00,  6.26it/s, Batch=Batch_2400, Train Accuracy=0.993, Train Loss=0.017]\n",
      "Validation Epoch 92: 100%|██████████| 19/19 [00:04<00:00,  4.30it/s, Val Accuracy=0.983, Val Loss=0.060]\n"
     ]
    },
    {
     "name": "stdout",
     "output_type": "stream",
     "text": [
      "Train Loss: 0.0172 Train Acc: 0.9929 Valid Loss: 0.0597 Valid Acc: 0.9833\n",
      "Epoch 92/199\n",
      "----------\n"
     ]
    },
    {
     "name": "stderr",
     "output_type": "stream",
     "text": [
      "Training Epoch 93: 100%|██████████| 150/150 [00:22<00:00,  6.53it/s, Batch=Batch_2400, Train Accuracy=0.995, Train Loss=0.018]\n",
      "Validation Epoch 93: 100%|██████████| 19/19 [00:04<00:00,  4.50it/s, Val Accuracy=0.980, Val Loss=0.081]\n"
     ]
    },
    {
     "name": "stdout",
     "output_type": "stream",
     "text": [
      "Train Loss: 0.0179 Train Acc: 0.9950 Valid Loss: 0.0808 Valid Acc: 0.9800\n",
      "Epoch 93/199\n",
      "----------\n"
     ]
    },
    {
     "name": "stderr",
     "output_type": "stream",
     "text": [
      "Training Epoch 94: 100%|██████████| 150/150 [00:23<00:00,  6.28it/s, Batch=Batch_2400, Train Accuracy=0.998, Train Loss=0.009]\n",
      "Validation Epoch 94: 100%|██████████| 19/19 [00:04<00:00,  4.38it/s, Val Accuracy=0.990, Val Loss=0.062]\n"
     ]
    },
    {
     "name": "stdout",
     "output_type": "stream",
     "text": [
      "Train Loss: 0.0094 Train Acc: 0.9975 Valid Loss: 0.0623 Valid Acc: 0.9900\n",
      "Epoch 94/199\n",
      "----------\n"
     ]
    },
    {
     "name": "stderr",
     "output_type": "stream",
     "text": [
      "Training Epoch 95: 100%|██████████| 150/150 [00:23<00:00,  6.28it/s, Batch=Batch_2400, Train Accuracy=0.995, Train Loss=0.012]\n",
      "Validation Epoch 95: 100%|██████████| 19/19 [00:04<00:00,  4.38it/s, Val Accuracy=0.970, Val Loss=0.062]\n"
     ]
    },
    {
     "name": "stdout",
     "output_type": "stream",
     "text": [
      "Train Loss: 0.0120 Train Acc: 0.9954 Valid Loss: 0.0616 Valid Acc: 0.9700\n",
      "Epoch 95/199\n",
      "----------\n"
     ]
    },
    {
     "name": "stderr",
     "output_type": "stream",
     "text": [
      "Training Epoch 96: 100%|██████████| 150/150 [00:23<00:00,  6.29it/s, Batch=Batch_2400, Train Accuracy=0.999, Train Loss=0.004]\n",
      "Validation Epoch 96: 100%|██████████| 19/19 [00:04<00:00,  4.39it/s, Val Accuracy=0.980, Val Loss=0.058]\n"
     ]
    },
    {
     "name": "stdout",
     "output_type": "stream",
     "text": [
      "Train Loss: 0.0039 Train Acc: 0.9988 Valid Loss: 0.0580 Valid Acc: 0.9800\n",
      "Epoch 96/199\n",
      "----------\n"
     ]
    },
    {
     "name": "stderr",
     "output_type": "stream",
     "text": [
      "Training Epoch 97: 100%|██████████| 150/150 [00:23<00:00,  6.28it/s, Batch=Batch_2400, Train Accuracy=1.000, Train Loss=0.003]\n",
      "Validation Epoch 97: 100%|██████████| 19/19 [00:04<00:00,  4.21it/s, Val Accuracy=0.980, Val Loss=0.063]\n"
     ]
    },
    {
     "name": "stdout",
     "output_type": "stream",
     "text": [
      "Train Loss: 0.0033 Train Acc: 0.9996 Valid Loss: 0.0625 Valid Acc: 0.9800\n",
      "Epoch 97/199\n",
      "----------\n"
     ]
    },
    {
     "name": "stderr",
     "output_type": "stream",
     "text": [
      "Training Epoch 98: 100%|██████████| 150/150 [00:23<00:00,  6.27it/s, Batch=Batch_2400, Train Accuracy=1.000, Train Loss=0.002]\n",
      "Validation Epoch 98: 100%|██████████| 19/19 [00:04<00:00,  4.37it/s, Val Accuracy=0.980, Val Loss=0.061]\n"
     ]
    },
    {
     "name": "stdout",
     "output_type": "stream",
     "text": [
      "Train Loss: 0.0018 Train Acc: 1.0000 Valid Loss: 0.0606 Valid Acc: 0.9800\n",
      "Epoch 98/199\n",
      "----------\n"
     ]
    },
    {
     "name": "stderr",
     "output_type": "stream",
     "text": [
      "Training Epoch 99: 100%|██████████| 150/150 [00:23<00:00,  6.27it/s, Batch=Batch_2400, Train Accuracy=1.000, Train Loss=0.003]\n",
      "Validation Epoch 99: 100%|██████████| 19/19 [00:04<00:00,  4.21it/s, Val Accuracy=0.980, Val Loss=0.058]\n"
     ]
    },
    {
     "name": "stdout",
     "output_type": "stream",
     "text": [
      "Train Loss: 0.0026 Train Acc: 0.9996 Valid Loss: 0.0581 Valid Acc: 0.9800\n",
      "Epoch 99/199\n",
      "----------\n"
     ]
    },
    {
     "name": "stderr",
     "output_type": "stream",
     "text": [
      "Training Epoch 100: 100%|██████████| 150/150 [00:22<00:00,  6.61it/s, Batch=Batch_2400, Train Accuracy=1.000, Train Loss=0.002]\n",
      "Validation Epoch 100: 100%|██████████| 19/19 [00:03<00:00,  4.95it/s, Val Accuracy=0.983, Val Loss=0.055]\n"
     ]
    },
    {
     "name": "stdout",
     "output_type": "stream",
     "text": [
      "Train Loss: 0.0021 Train Acc: 0.9996 Valid Loss: 0.0553 Valid Acc: 0.9833\n",
      "Epoch 100/199\n",
      "----------\n"
     ]
    },
    {
     "name": "stderr",
     "output_type": "stream",
     "text": [
      "Training Epoch 101: 100%|██████████| 150/150 [00:22<00:00,  6.71it/s, Batch=Batch_2400, Train Accuracy=1.000, Train Loss=0.002]\n",
      "Validation Epoch 101: 100%|██████████| 19/19 [00:04<00:00,  4.66it/s, Val Accuracy=0.980, Val Loss=0.060]\n"
     ]
    },
    {
     "name": "stdout",
     "output_type": "stream",
     "text": [
      "Train Loss: 0.0016 Train Acc: 1.0000 Valid Loss: 0.0604 Valid Acc: 0.9800\n",
      "Epoch 101/199\n",
      "----------\n"
     ]
    },
    {
     "name": "stderr",
     "output_type": "stream",
     "text": [
      "Training Epoch 102: 100%|██████████| 150/150 [00:22<00:00,  6.69it/s, Batch=Batch_2400, Train Accuracy=0.999, Train Loss=0.007]\n",
      "Validation Epoch 102: 100%|██████████| 19/19 [00:03<00:00,  4.99it/s, Val Accuracy=0.980, Val Loss=0.068]\n"
     ]
    },
    {
     "name": "stdout",
     "output_type": "stream",
     "text": [
      "Train Loss: 0.0073 Train Acc: 0.9988 Valid Loss: 0.0682 Valid Acc: 0.9800\n",
      "Epoch 102/199\n",
      "----------\n"
     ]
    },
    {
     "name": "stderr",
     "output_type": "stream",
     "text": [
      "Training Epoch 103: 100%|██████████| 150/150 [00:22<00:00,  6.71it/s, Batch=Batch_2400, Train Accuracy=0.998, Train Loss=0.005]\n",
      "Validation Epoch 103: 100%|██████████| 19/19 [00:03<00:00,  4.89it/s, Val Accuracy=0.980, Val Loss=0.075]\n"
     ]
    },
    {
     "name": "stdout",
     "output_type": "stream",
     "text": [
      "Train Loss: 0.0052 Train Acc: 0.9983 Valid Loss: 0.0752 Valid Acc: 0.9800\n",
      "Epoch 103/199\n",
      "----------\n"
     ]
    },
    {
     "name": "stderr",
     "output_type": "stream",
     "text": [
      "Training Epoch 104: 100%|██████████| 150/150 [00:22<00:00,  6.70it/s, Batch=Batch_2400, Train Accuracy=0.999, Train Loss=0.003]\n",
      "Validation Epoch 104: 100%|██████████| 19/19 [00:03<00:00,  5.00it/s, Val Accuracy=0.983, Val Loss=0.080]\n"
     ]
    },
    {
     "name": "stdout",
     "output_type": "stream",
     "text": [
      "Train Loss: 0.0035 Train Acc: 0.9992 Valid Loss: 0.0801 Valid Acc: 0.9833\n",
      "Epoch 104/199\n",
      "----------\n"
     ]
    },
    {
     "name": "stderr",
     "output_type": "stream",
     "text": [
      "Training Epoch 105: 100%|██████████| 150/150 [00:22<00:00,  6.53it/s, Batch=Batch_2400, Train Accuracy=1.000, Train Loss=0.002]\n",
      "Validation Epoch 105: 100%|██████████| 19/19 [00:04<00:00,  4.74it/s, Val Accuracy=0.983, Val Loss=0.085]\n"
     ]
    },
    {
     "name": "stdout",
     "output_type": "stream",
     "text": [
      "Train Loss: 0.0015 Train Acc: 0.9996 Valid Loss: 0.0853 Valid Acc: 0.9833\n",
      "Epoch 105/199\n",
      "----------\n"
     ]
    },
    {
     "name": "stderr",
     "output_type": "stream",
     "text": [
      "Training Epoch 106: 100%|██████████| 150/150 [00:22<00:00,  6.54it/s, Batch=Batch_2400, Train Accuracy=0.999, Train Loss=0.002]\n",
      "Validation Epoch 106: 100%|██████████| 19/19 [00:04<00:00,  4.62it/s, Val Accuracy=0.980, Val Loss=0.083]\n"
     ]
    },
    {
     "name": "stdout",
     "output_type": "stream",
     "text": [
      "Train Loss: 0.0022 Train Acc: 0.9992 Valid Loss: 0.0830 Valid Acc: 0.9800\n",
      "Epoch 106/199\n",
      "----------\n"
     ]
    },
    {
     "name": "stderr",
     "output_type": "stream",
     "text": [
      "Training Epoch 107: 100%|██████████| 150/150 [00:22<00:00,  6.57it/s, Batch=Batch_2400, Train Accuracy=0.994, Train Loss=0.039]\n",
      "Validation Epoch 107: 100%|██████████| 19/19 [00:04<00:00,  4.65it/s, Val Accuracy=0.983, Val Loss=0.095]\n"
     ]
    },
    {
     "name": "stdout",
     "output_type": "stream",
     "text": [
      "Train Loss: 0.0392 Train Acc: 0.9938 Valid Loss: 0.0952 Valid Acc: 0.9833\n",
      "Epoch 107/199\n",
      "----------\n"
     ]
    },
    {
     "name": "stderr",
     "output_type": "stream",
     "text": [
      "Training Epoch 108: 100%|██████████| 150/150 [00:23<00:00,  6.52it/s, Batch=Batch_2400, Train Accuracy=1.000, Train Loss=0.002]\n",
      "Validation Epoch 108: 100%|██████████| 19/19 [00:03<00:00,  4.82it/s, Val Accuracy=0.983, Val Loss=0.081]\n"
     ]
    },
    {
     "name": "stdout",
     "output_type": "stream",
     "text": [
      "Train Loss: 0.0022 Train Acc: 0.9996 Valid Loss: 0.0814 Valid Acc: 0.9833\n",
      "Epoch 108/199\n",
      "----------\n"
     ]
    },
    {
     "name": "stderr",
     "output_type": "stream",
     "text": [
      "Training Epoch 109: 100%|██████████| 150/150 [00:23<00:00,  6.52it/s, Batch=Batch_2400, Train Accuracy=0.999, Train Loss=0.004]\n",
      "Validation Epoch 109: 100%|██████████| 19/19 [00:03<00:00,  4.85it/s, Val Accuracy=0.980, Val Loss=0.076]\n"
     ]
    },
    {
     "name": "stdout",
     "output_type": "stream",
     "text": [
      "Train Loss: 0.0036 Train Acc: 0.9988 Valid Loss: 0.0757 Valid Acc: 0.9800\n",
      "Epoch 109/199\n",
      "----------\n"
     ]
    },
    {
     "name": "stderr",
     "output_type": "stream",
     "text": [
      "Training Epoch 110: 100%|██████████| 150/150 [00:22<00:00,  6.56it/s, Batch=Batch_2400, Train Accuracy=1.000, Train Loss=0.001]\n",
      "Validation Epoch 110: 100%|██████████| 19/19 [00:04<00:00,  4.58it/s, Val Accuracy=0.977, Val Loss=0.075]\n"
     ]
    },
    {
     "name": "stdout",
     "output_type": "stream",
     "text": [
      "Train Loss: 0.0011 Train Acc: 0.9996 Valid Loss: 0.0752 Valid Acc: 0.9767\n",
      "Epoch 110/199\n",
      "----------\n"
     ]
    },
    {
     "name": "stderr",
     "output_type": "stream",
     "text": [
      "Training Epoch 111: 100%|██████████| 150/150 [00:22<00:00,  6.56it/s, Batch=Batch_2400, Train Accuracy=0.998, Train Loss=0.025]\n",
      "Validation Epoch 111: 100%|██████████| 19/19 [00:03<00:00,  4.76it/s, Val Accuracy=0.977, Val Loss=0.080]\n"
     ]
    },
    {
     "name": "stdout",
     "output_type": "stream",
     "text": [
      "Train Loss: 0.0248 Train Acc: 0.9975 Valid Loss: 0.0804 Valid Acc: 0.9767\n",
      "Epoch 111/199\n",
      "----------\n"
     ]
    },
    {
     "name": "stderr",
     "output_type": "stream",
     "text": [
      "Training Epoch 112: 100%|██████████| 150/150 [00:22<00:00,  6.55it/s, Batch=Batch_2400, Train Accuracy=0.999, Train Loss=0.004]\n",
      "Validation Epoch 112: 100%|██████████| 19/19 [00:04<00:00,  4.50it/s, Val Accuracy=0.980, Val Loss=0.072]\n"
     ]
    },
    {
     "name": "stdout",
     "output_type": "stream",
     "text": [
      "Train Loss: 0.0040 Train Acc: 0.9988 Valid Loss: 0.0724 Valid Acc: 0.9800\n",
      "Epoch 112/199\n",
      "----------\n"
     ]
    },
    {
     "name": "stderr",
     "output_type": "stream",
     "text": [
      "Training Epoch 113: 100%|██████████| 150/150 [00:22<00:00,  6.55it/s, Batch=Batch_2400, Train Accuracy=1.000, Train Loss=0.002]\n",
      "Validation Epoch 113: 100%|██████████| 19/19 [00:04<00:00,  4.31it/s, Val Accuracy=0.977, Val Loss=0.076]\n"
     ]
    },
    {
     "name": "stdout",
     "output_type": "stream",
     "text": [
      "Train Loss: 0.0015 Train Acc: 0.9996 Valid Loss: 0.0763 Valid Acc: 0.9767\n",
      "Epoch 113/199\n",
      "----------\n"
     ]
    },
    {
     "name": "stderr",
     "output_type": "stream",
     "text": [
      "Training Epoch 114: 100%|██████████| 150/150 [00:22<00:00,  6.54it/s, Batch=Batch_2400, Train Accuracy=0.998, Train Loss=0.012]\n",
      "Validation Epoch 114: 100%|██████████| 19/19 [00:04<00:00,  4.60it/s, Val Accuracy=0.980, Val Loss=0.072]\n"
     ]
    },
    {
     "name": "stdout",
     "output_type": "stream",
     "text": [
      "Train Loss: 0.0116 Train Acc: 0.9975 Valid Loss: 0.0722 Valid Acc: 0.9800\n",
      "Epoch 114/199\n",
      "----------\n"
     ]
    },
    {
     "name": "stderr",
     "output_type": "stream",
     "text": [
      "Training Epoch 115: 100%|██████████| 150/150 [00:22<00:00,  6.54it/s, Batch=Batch_2400, Train Accuracy=1.000, Train Loss=0.002]\n",
      "Validation Epoch 115: 100%|██████████| 19/19 [00:03<00:00,  4.85it/s, Val Accuracy=0.977, Val Loss=0.076]\n"
     ]
    },
    {
     "name": "stdout",
     "output_type": "stream",
     "text": [
      "Train Loss: 0.0018 Train Acc: 0.9996 Valid Loss: 0.0764 Valid Acc: 0.9767\n",
      "Epoch 115/199\n",
      "----------\n"
     ]
    },
    {
     "name": "stderr",
     "output_type": "stream",
     "text": [
      "Training Epoch 116: 100%|██████████| 150/150 [00:22<00:00,  6.57it/s, Batch=Batch_2400, Train Accuracy=0.998, Train Loss=0.011]\n",
      "Validation Epoch 116: 100%|██████████| 19/19 [00:04<00:00,  4.45it/s, Val Accuracy=0.980, Val Loss=0.070]\n"
     ]
    },
    {
     "name": "stdout",
     "output_type": "stream",
     "text": [
      "Train Loss: 0.0114 Train Acc: 0.9979 Valid Loss: 0.0701 Valid Acc: 0.9800\n",
      "Epoch 116/199\n",
      "----------\n"
     ]
    },
    {
     "name": "stderr",
     "output_type": "stream",
     "text": [
      "Training Epoch 117: 100%|██████████| 150/150 [00:22<00:00,  6.57it/s, Batch=Batch_2400, Train Accuracy=0.995, Train Loss=0.035]\n",
      "Validation Epoch 117: 100%|██████████| 19/19 [00:04<00:00,  4.74it/s, Val Accuracy=0.980, Val Loss=0.072]\n"
     ]
    },
    {
     "name": "stdout",
     "output_type": "stream",
     "text": [
      "Train Loss: 0.0349 Train Acc: 0.9954 Valid Loss: 0.0715 Valid Acc: 0.9800\n",
      "Epoch 117/199\n",
      "----------\n"
     ]
    },
    {
     "name": "stderr",
     "output_type": "stream",
     "text": [
      "Training Epoch 118: 100%|██████████| 150/150 [00:22<00:00,  6.52it/s, Batch=Batch_2400, Train Accuracy=0.999, Train Loss=0.005]\n",
      "Validation Epoch 118: 100%|██████████| 19/19 [00:04<00:00,  4.68it/s, Val Accuracy=0.977, Val Loss=0.071]\n"
     ]
    },
    {
     "name": "stdout",
     "output_type": "stream",
     "text": [
      "Train Loss: 0.0048 Train Acc: 0.9988 Valid Loss: 0.0713 Valid Acc: 0.9767\n",
      "Epoch 118/199\n",
      "----------\n"
     ]
    },
    {
     "name": "stderr",
     "output_type": "stream",
     "text": [
      "Training Epoch 119: 100%|██████████| 150/150 [00:22<00:00,  6.55it/s, Batch=Batch_2400, Train Accuracy=0.998, Train Loss=0.018]\n",
      "Validation Epoch 119: 100%|██████████| 19/19 [00:04<00:00,  4.70it/s, Val Accuracy=0.977, Val Loss=0.075]\n"
     ]
    },
    {
     "name": "stdout",
     "output_type": "stream",
     "text": [
      "Train Loss: 0.0179 Train Acc: 0.9983 Valid Loss: 0.0750 Valid Acc: 0.9767\n",
      "Epoch 119/199\n",
      "----------\n"
     ]
    },
    {
     "name": "stderr",
     "output_type": "stream",
     "text": [
      "Training Epoch 120: 100%|██████████| 150/150 [00:22<00:00,  6.54it/s, Batch=Batch_2400, Train Accuracy=0.999, Train Loss=0.003]\n",
      "Validation Epoch 120: 100%|██████████| 19/19 [00:03<00:00,  4.84it/s, Val Accuracy=0.980, Val Loss=0.072]\n"
     ]
    },
    {
     "name": "stdout",
     "output_type": "stream",
     "text": [
      "Train Loss: 0.0029 Train Acc: 0.9992 Valid Loss: 0.0725 Valid Acc: 0.9800\n",
      "Epoch 120/199\n",
      "----------\n"
     ]
    },
    {
     "name": "stderr",
     "output_type": "stream",
     "text": [
      "Training Epoch 121: 100%|██████████| 150/150 [00:22<00:00,  6.53it/s, Batch=Batch_2400, Train Accuracy=1.000, Train Loss=0.002]\n",
      "Validation Epoch 121: 100%|██████████| 19/19 [00:03<00:00,  4.79it/s, Val Accuracy=0.980, Val Loss=0.068]\n"
     ]
    },
    {
     "name": "stdout",
     "output_type": "stream",
     "text": [
      "Train Loss: 0.0018 Train Acc: 0.9996 Valid Loss: 0.0680 Valid Acc: 0.9800\n",
      "Epoch 121/199\n",
      "----------\n"
     ]
    },
    {
     "name": "stderr",
     "output_type": "stream",
     "text": [
      "Training Epoch 122: 100%|██████████| 150/150 [00:22<00:00,  6.56it/s, Batch=Batch_2400, Train Accuracy=1.000, Train Loss=0.002]\n",
      "Validation Epoch 122: 100%|██████████| 19/19 [00:04<00:00,  4.63it/s, Val Accuracy=0.980, Val Loss=0.065]\n"
     ]
    },
    {
     "name": "stdout",
     "output_type": "stream",
     "text": [
      "Train Loss: 0.0022 Train Acc: 0.9996 Valid Loss: 0.0653 Valid Acc: 0.9800\n",
      "Epoch 122/199\n",
      "----------\n"
     ]
    },
    {
     "name": "stderr",
     "output_type": "stream",
     "text": [
      "Training Epoch 123: 100%|██████████| 150/150 [00:22<00:00,  6.55it/s, Batch=Batch_2400, Train Accuracy=1.000, Train Loss=0.001]\n",
      "Validation Epoch 123: 100%|██████████| 19/19 [00:04<00:00,  4.69it/s, Val Accuracy=0.980, Val Loss=0.068]\n"
     ]
    },
    {
     "name": "stdout",
     "output_type": "stream",
     "text": [
      "Train Loss: 0.0012 Train Acc: 1.0000 Valid Loss: 0.0679 Valid Acc: 0.9800\n",
      "Epoch 123/199\n",
      "----------\n"
     ]
    },
    {
     "name": "stderr",
     "output_type": "stream",
     "text": [
      "Training Epoch 124: 100%|██████████| 150/150 [00:23<00:00,  6.52it/s, Batch=Batch_2400, Train Accuracy=0.998, Train Loss=0.006]\n",
      "Validation Epoch 124: 100%|██████████| 19/19 [00:03<00:00,  4.81it/s, Val Accuracy=0.980, Val Loss=0.067]\n"
     ]
    },
    {
     "name": "stdout",
     "output_type": "stream",
     "text": [
      "Train Loss: 0.0061 Train Acc: 0.9983 Valid Loss: 0.0675 Valid Acc: 0.9800\n",
      "Epoch 124/199\n",
      "----------\n"
     ]
    },
    {
     "name": "stderr",
     "output_type": "stream",
     "text": [
      "Training Epoch 125: 100%|██████████| 150/150 [00:22<00:00,  6.54it/s, Batch=Batch_2400, Train Accuracy=0.998, Train Loss=0.014]\n",
      "Validation Epoch 125: 100%|██████████| 19/19 [00:04<00:00,  4.73it/s, Val Accuracy=0.977, Val Loss=0.074]\n"
     ]
    },
    {
     "name": "stdout",
     "output_type": "stream",
     "text": [
      "Train Loss: 0.0143 Train Acc: 0.9983 Valid Loss: 0.0742 Valid Acc: 0.9767\n",
      "Epoch 125/199\n",
      "----------\n"
     ]
    },
    {
     "name": "stderr",
     "output_type": "stream",
     "text": [
      "Training Epoch 126: 100%|██████████| 150/150 [00:22<00:00,  6.55it/s, Batch=Batch_2400, Train Accuracy=1.000, Train Loss=0.001]\n",
      "Validation Epoch 126: 100%|██████████| 19/19 [00:04<00:00,  4.73it/s, Val Accuracy=0.980, Val Loss=0.068]\n"
     ]
    },
    {
     "name": "stdout",
     "output_type": "stream",
     "text": [
      "Train Loss: 0.0010 Train Acc: 1.0000 Valid Loss: 0.0682 Valid Acc: 0.9800\n",
      "Epoch 126/199\n",
      "----------\n"
     ]
    },
    {
     "name": "stderr",
     "output_type": "stream",
     "text": [
      "Training Epoch 127: 100%|██████████| 150/150 [00:23<00:00,  6.49it/s, Batch=Batch_2400, Train Accuracy=0.999, Train Loss=0.002]\n",
      "Validation Epoch 127: 100%|██████████| 19/19 [00:04<00:00,  4.61it/s, Val Accuracy=0.983, Val Loss=0.072]\n"
     ]
    },
    {
     "name": "stdout",
     "output_type": "stream",
     "text": [
      "Train Loss: 0.0022 Train Acc: 0.9992 Valid Loss: 0.0722 Valid Acc: 0.9833\n",
      "Epoch 127/199\n",
      "----------\n"
     ]
    },
    {
     "name": "stderr",
     "output_type": "stream",
     "text": [
      "Training Epoch 128: 100%|██████████| 150/150 [00:22<00:00,  6.56it/s, Batch=Batch_2400, Train Accuracy=1.000, Train Loss=0.002]\n",
      "Validation Epoch 128: 100%|██████████| 19/19 [00:03<00:00,  4.88it/s, Val Accuracy=0.980, Val Loss=0.075]\n"
     ]
    },
    {
     "name": "stdout",
     "output_type": "stream",
     "text": [
      "Train Loss: 0.0019 Train Acc: 0.9996 Valid Loss: 0.0747 Valid Acc: 0.9800\n",
      "Epoch 128/199\n",
      "----------\n"
     ]
    },
    {
     "name": "stderr",
     "output_type": "stream",
     "text": [
      "Training Epoch 129: 100%|██████████| 150/150 [00:22<00:00,  6.60it/s, Batch=Batch_2400, Train Accuracy=1.000, Train Loss=0.001]\n",
      "Validation Epoch 129: 100%|██████████| 19/19 [00:04<00:00,  4.71it/s, Val Accuracy=0.977, Val Loss=0.078]\n"
     ]
    },
    {
     "name": "stdout",
     "output_type": "stream",
     "text": [
      "Train Loss: 0.0015 Train Acc: 1.0000 Valid Loss: 0.0781 Valid Acc: 0.9767\n",
      "Epoch 129/199\n",
      "----------\n"
     ]
    },
    {
     "name": "stderr",
     "output_type": "stream",
     "text": [
      "Training Epoch 130: 100%|██████████| 150/150 [00:22<00:00,  6.57it/s, Batch=Batch_2400, Train Accuracy=0.999, Train Loss=0.009]\n",
      "Validation Epoch 130: 100%|██████████| 19/19 [00:04<00:00,  4.73it/s, Val Accuracy=0.980, Val Loss=0.073]\n"
     ]
    },
    {
     "name": "stdout",
     "output_type": "stream",
     "text": [
      "Train Loss: 0.0094 Train Acc: 0.9988 Valid Loss: 0.0729 Valid Acc: 0.9800\n",
      "Epoch 130/199\n",
      "----------\n"
     ]
    },
    {
     "name": "stderr",
     "output_type": "stream",
     "text": [
      "Training Epoch 131: 100%|██████████| 150/150 [00:22<00:00,  6.58it/s, Batch=Batch_2400, Train Accuracy=1.000, Train Loss=0.001]\n",
      "Validation Epoch 131: 100%|██████████| 19/19 [00:04<00:00,  4.69it/s, Val Accuracy=0.980, Val Loss=0.071]\n"
     ]
    },
    {
     "name": "stdout",
     "output_type": "stream",
     "text": [
      "Train Loss: 0.0015 Train Acc: 0.9996 Valid Loss: 0.0714 Valid Acc: 0.9800\n",
      "Epoch 131/199\n",
      "----------\n"
     ]
    },
    {
     "name": "stderr",
     "output_type": "stream",
     "text": [
      "Training Epoch 132: 100%|██████████| 150/150 [00:22<00:00,  6.58it/s, Batch=Batch_2400, Train Accuracy=0.998, Train Loss=0.015]\n",
      "Validation Epoch 132: 100%|██████████| 19/19 [00:04<00:00,  4.68it/s, Val Accuracy=0.980, Val Loss=0.075]\n"
     ]
    },
    {
     "name": "stdout",
     "output_type": "stream",
     "text": [
      "Train Loss: 0.0150 Train Acc: 0.9983 Valid Loss: 0.0750 Valid Acc: 0.9800\n",
      "Epoch 132/199\n",
      "----------\n"
     ]
    },
    {
     "name": "stderr",
     "output_type": "stream",
     "text": [
      "Training Epoch 133: 100%|██████████| 150/150 [00:22<00:00,  6.58it/s, Batch=Batch_2400, Train Accuracy=0.997, Train Loss=0.012]\n",
      "Validation Epoch 133: 100%|██████████| 19/19 [00:03<00:00,  4.84it/s, Val Accuracy=0.977, Val Loss=0.076]\n"
     ]
    },
    {
     "name": "stdout",
     "output_type": "stream",
     "text": [
      "Train Loss: 0.0119 Train Acc: 0.9971 Valid Loss: 0.0763 Valid Acc: 0.9767\n",
      "Epoch 133/199\n",
      "----------\n"
     ]
    },
    {
     "name": "stderr",
     "output_type": "stream",
     "text": [
      "Training Epoch 134: 100%|██████████| 150/150 [00:22<00:00,  6.58it/s, Batch=Batch_2400, Train Accuracy=1.000, Train Loss=0.002]\n",
      "Validation Epoch 134: 100%|██████████| 19/19 [00:03<00:00,  4.77it/s, Val Accuracy=0.980, Val Loss=0.070]\n"
     ]
    },
    {
     "name": "stdout",
     "output_type": "stream",
     "text": [
      "Train Loss: 0.0022 Train Acc: 0.9996 Valid Loss: 0.0705 Valid Acc: 0.9800\n",
      "Epoch 134/199\n",
      "----------\n"
     ]
    },
    {
     "name": "stderr",
     "output_type": "stream",
     "text": [
      "Training Epoch 135: 100%|██████████| 150/150 [00:22<00:00,  6.59it/s, Batch=Batch_2400, Train Accuracy=0.997, Train Loss=0.013]\n",
      "Validation Epoch 135: 100%|██████████| 19/19 [00:03<00:00,  4.81it/s, Val Accuracy=0.977, Val Loss=0.076]\n"
     ]
    },
    {
     "name": "stdout",
     "output_type": "stream",
     "text": [
      "Train Loss: 0.0127 Train Acc: 0.9967 Valid Loss: 0.0757 Valid Acc: 0.9767\n",
      "Epoch 135/199\n",
      "----------\n"
     ]
    },
    {
     "name": "stderr",
     "output_type": "stream",
     "text": [
      "Training Epoch 136: 100%|██████████| 150/150 [00:22<00:00,  6.59it/s, Batch=Batch_2400, Train Accuracy=1.000, Train Loss=0.002]\n",
      "Validation Epoch 136: 100%|██████████| 19/19 [00:03<00:00,  4.79it/s, Val Accuracy=0.980, Val Loss=0.076]\n"
     ]
    },
    {
     "name": "stdout",
     "output_type": "stream",
     "text": [
      "Train Loss: 0.0024 Train Acc: 0.9996 Valid Loss: 0.0762 Valid Acc: 0.9800\n",
      "Epoch 136/199\n",
      "----------\n"
     ]
    },
    {
     "name": "stderr",
     "output_type": "stream",
     "text": [
      "Training Epoch 137: 100%|██████████| 150/150 [00:22<00:00,  6.59it/s, Batch=Batch_2400, Train Accuracy=0.998, Train Loss=0.006]\n",
      "Validation Epoch 137: 100%|██████████| 19/19 [00:03<00:00,  4.81it/s, Val Accuracy=0.977, Val Loss=0.082]\n"
     ]
    },
    {
     "name": "stdout",
     "output_type": "stream",
     "text": [
      "Train Loss: 0.0059 Train Acc: 0.9979 Valid Loss: 0.0821 Valid Acc: 0.9767\n",
      "Epoch 137/199\n",
      "----------\n"
     ]
    },
    {
     "name": "stderr",
     "output_type": "stream",
     "text": [
      "Training Epoch 138: 100%|██████████| 150/150 [00:22<00:00,  6.60it/s, Batch=Batch_2400, Train Accuracy=0.998, Train Loss=0.005]\n",
      "Validation Epoch 138: 100%|██████████| 19/19 [00:03<00:00,  4.76it/s, Val Accuracy=0.980, Val Loss=0.084]\n"
     ]
    },
    {
     "name": "stdout",
     "output_type": "stream",
     "text": [
      "Train Loss: 0.0048 Train Acc: 0.9979 Valid Loss: 0.0845 Valid Acc: 0.9800\n",
      "Epoch 138/199\n",
      "----------\n"
     ]
    },
    {
     "name": "stderr",
     "output_type": "stream",
     "text": [
      "Training Epoch 139: 100%|██████████| 150/150 [00:22<00:00,  6.58it/s, Batch=Batch_2400, Train Accuracy=0.999, Train Loss=0.006]\n",
      "Validation Epoch 139: 100%|██████████| 19/19 [00:03<00:00,  4.77it/s, Val Accuracy=0.977, Val Loss=0.070]\n"
     ]
    },
    {
     "name": "stdout",
     "output_type": "stream",
     "text": [
      "Train Loss: 0.0063 Train Acc: 0.9988 Valid Loss: 0.0704 Valid Acc: 0.9767\n",
      "Epoch 139/199\n",
      "----------\n"
     ]
    },
    {
     "name": "stderr",
     "output_type": "stream",
     "text": [
      "Training Epoch 140: 100%|██████████| 150/150 [00:23<00:00,  6.52it/s, Batch=Batch_2400, Train Accuracy=0.993, Train Loss=0.029]\n",
      "Validation Epoch 140: 100%|██████████| 19/19 [00:04<00:00,  4.69it/s, Val Accuracy=0.980, Val Loss=0.067]\n"
     ]
    },
    {
     "name": "stdout",
     "output_type": "stream",
     "text": [
      "Train Loss: 0.0291 Train Acc: 0.9925 Valid Loss: 0.0671 Valid Acc: 0.9800\n",
      "Epoch 140/199\n",
      "----------\n"
     ]
    },
    {
     "name": "stderr",
     "output_type": "stream",
     "text": [
      "Training Epoch 141: 100%|██████████| 150/150 [00:22<00:00,  6.56it/s, Batch=Batch_2400, Train Accuracy=0.999, Train Loss=0.003]\n",
      "Validation Epoch 141: 100%|██████████| 19/19 [00:04<00:00,  4.32it/s, Val Accuracy=0.980, Val Loss=0.109]\n"
     ]
    },
    {
     "name": "stdout",
     "output_type": "stream",
     "text": [
      "Train Loss: 0.0031 Train Acc: 0.9988 Valid Loss: 0.1094 Valid Acc: 0.9800\n",
      "Epoch 141/199\n",
      "----------\n"
     ]
    },
    {
     "name": "stderr",
     "output_type": "stream",
     "text": [
      "Training Epoch 142: 100%|██████████| 150/150 [00:22<00:00,  6.57it/s, Batch=Batch_2400, Train Accuracy=1.000, Train Loss=0.002]\n",
      "Validation Epoch 142: 100%|██████████| 19/19 [00:03<00:00,  4.89it/s, Val Accuracy=0.987, Val Loss=0.102]\n"
     ]
    },
    {
     "name": "stdout",
     "output_type": "stream",
     "text": [
      "Train Loss: 0.0019 Train Acc: 0.9996 Valid Loss: 0.1023 Valid Acc: 0.9867\n",
      "Epoch 142/199\n",
      "----------\n"
     ]
    },
    {
     "name": "stderr",
     "output_type": "stream",
     "text": [
      "Training Epoch 143: 100%|██████████| 150/150 [00:22<00:00,  6.58it/s, Batch=Batch_2400, Train Accuracy=1.000, Train Loss=0.001]\n",
      "Validation Epoch 143: 100%|██████████| 19/19 [00:03<00:00,  4.79it/s, Val Accuracy=0.980, Val Loss=0.067]\n"
     ]
    },
    {
     "name": "stdout",
     "output_type": "stream",
     "text": [
      "Train Loss: 0.0013 Train Acc: 1.0000 Valid Loss: 0.0673 Valid Acc: 0.9800\n",
      "Epoch 143/199\n",
      "----------\n"
     ]
    },
    {
     "name": "stderr",
     "output_type": "stream",
     "text": [
      "Training Epoch 144: 100%|██████████| 150/150 [00:22<00:00,  6.55it/s, Batch=Batch_2400, Train Accuracy=1.000, Train Loss=0.001]\n",
      "Validation Epoch 144: 100%|██████████| 19/19 [00:03<00:00,  4.83it/s, Val Accuracy=0.970, Val Loss=0.071]\n"
     ]
    },
    {
     "name": "stdout",
     "output_type": "stream",
     "text": [
      "Train Loss: 0.0013 Train Acc: 0.9996 Valid Loss: 0.0712 Valid Acc: 0.9700\n",
      "Epoch 144/199\n",
      "----------\n"
     ]
    },
    {
     "name": "stderr",
     "output_type": "stream",
     "text": [
      "Training Epoch 145: 100%|██████████| 150/150 [00:22<00:00,  6.54it/s, Batch=Batch_2400, Train Accuracy=1.000, Train Loss=0.001]\n",
      "Validation Epoch 145: 100%|██████████| 19/19 [00:03<00:00,  4.78it/s, Val Accuracy=0.970, Val Loss=0.060]\n"
     ]
    },
    {
     "name": "stdout",
     "output_type": "stream",
     "text": [
      "Train Loss: 0.0012 Train Acc: 1.0000 Valid Loss: 0.0603 Valid Acc: 0.9700\n",
      "Epoch 145/199\n",
      "----------\n"
     ]
    },
    {
     "name": "stderr",
     "output_type": "stream",
     "text": [
      "Training Epoch 146: 100%|██████████| 150/150 [00:22<00:00,  6.53it/s, Batch=Batch_2400, Train Accuracy=1.000, Train Loss=0.001]\n",
      "Validation Epoch 146: 100%|██████████| 19/19 [00:04<00:00,  4.59it/s, Val Accuracy=0.980, Val Loss=0.060]\n"
     ]
    },
    {
     "name": "stdout",
     "output_type": "stream",
     "text": [
      "Train Loss: 0.0015 Train Acc: 0.9996 Valid Loss: 0.0601 Valid Acc: 0.9800\n",
      "Epoch 146/199\n",
      "----------\n"
     ]
    },
    {
     "name": "stderr",
     "output_type": "stream",
     "text": [
      "Training Epoch 147: 100%|██████████| 150/150 [00:22<00:00,  6.58it/s, Batch=Batch_2400, Train Accuracy=0.998, Train Loss=0.005]\n",
      "Validation Epoch 147: 100%|██████████| 19/19 [00:03<00:00,  4.76it/s, Val Accuracy=0.977, Val Loss=0.081]\n"
     ]
    },
    {
     "name": "stdout",
     "output_type": "stream",
     "text": [
      "Train Loss: 0.0049 Train Acc: 0.9979 Valid Loss: 0.0811 Valid Acc: 0.9767\n",
      "Epoch 147/199\n",
      "----------\n"
     ]
    },
    {
     "name": "stderr",
     "output_type": "stream",
     "text": [
      "Training Epoch 148: 100%|██████████| 150/150 [00:22<00:00,  6.55it/s, Batch=Batch_2400, Train Accuracy=1.000, Train Loss=0.003]\n",
      "Validation Epoch 148: 100%|██████████| 19/19 [00:04<00:00,  4.58it/s, Val Accuracy=0.987, Val Loss=0.056]\n"
     ]
    },
    {
     "name": "stdout",
     "output_type": "stream",
     "text": [
      "Train Loss: 0.0025 Train Acc: 0.9996 Valid Loss: 0.0558 Valid Acc: 0.9867\n",
      "Epoch 148/199\n",
      "----------\n"
     ]
    },
    {
     "name": "stderr",
     "output_type": "stream",
     "text": [
      "Training Epoch 149: 100%|██████████| 150/150 [00:22<00:00,  6.57it/s, Batch=Batch_2400, Train Accuracy=0.999, Train Loss=0.003]\n",
      "Validation Epoch 149: 100%|██████████| 19/19 [00:04<00:00,  4.70it/s, Val Accuracy=0.970, Val Loss=0.105]\n"
     ]
    },
    {
     "name": "stdout",
     "output_type": "stream",
     "text": [
      "Train Loss: 0.0028 Train Acc: 0.9992 Valid Loss: 0.1048 Valid Acc: 0.9700\n",
      "Epoch 149/199\n",
      "----------\n"
     ]
    },
    {
     "name": "stderr",
     "output_type": "stream",
     "text": [
      "Training Epoch 150: 100%|██████████| 150/150 [00:22<00:00,  6.58it/s, Batch=Batch_2400, Train Accuracy=0.994, Train Loss=0.037]\n",
      "Validation Epoch 150: 100%|██████████| 19/19 [00:04<00:00,  4.67it/s, Val Accuracy=0.953, Val Loss=0.183]\n"
     ]
    },
    {
     "name": "stdout",
     "output_type": "stream",
     "text": [
      "Train Loss: 0.0374 Train Acc: 0.9938 Valid Loss: 0.1831 Valid Acc: 0.9533\n",
      "Epoch 150/199\n",
      "----------\n"
     ]
    },
    {
     "name": "stderr",
     "output_type": "stream",
     "text": [
      "Training Epoch 151: 100%|██████████| 150/150 [00:22<00:00,  6.56it/s, Batch=Batch_2400, Train Accuracy=0.979, Train Loss=0.079]\n",
      "Validation Epoch 151: 100%|██████████| 19/19 [00:04<00:00,  4.68it/s, Val Accuracy=0.930, Val Loss=0.312]\n"
     ]
    },
    {
     "name": "stdout",
     "output_type": "stream",
     "text": [
      "Train Loss: 0.0786 Train Acc: 0.9792 Valid Loss: 0.3124 Valid Acc: 0.9300\n",
      "Epoch 151/199\n",
      "----------\n"
     ]
    },
    {
     "name": "stderr",
     "output_type": "stream",
     "text": [
      "Training Epoch 152: 100%|██████████| 150/150 [00:22<00:00,  6.54it/s, Batch=Batch_2400, Train Accuracy=0.975, Train Loss=0.088]\n",
      "Validation Epoch 152: 100%|██████████| 19/19 [00:04<00:00,  4.56it/s, Val Accuracy=0.957, Val Loss=0.148]\n"
     ]
    },
    {
     "name": "stdout",
     "output_type": "stream",
     "text": [
      "Train Loss: 0.0883 Train Acc: 0.9750 Valid Loss: 0.1482 Valid Acc: 0.9567\n",
      "Epoch 152/199\n",
      "----------\n"
     ]
    },
    {
     "name": "stderr",
     "output_type": "stream",
     "text": [
      "Training Epoch 153: 100%|██████████| 150/150 [00:23<00:00,  6.52it/s, Batch=Batch_2400, Train Accuracy=0.992, Train Loss=0.022]\n",
      "Validation Epoch 153: 100%|██████████| 19/19 [00:04<00:00,  4.74it/s, Val Accuracy=0.977, Val Loss=0.084]\n"
     ]
    },
    {
     "name": "stdout",
     "output_type": "stream",
     "text": [
      "Train Loss: 0.0219 Train Acc: 0.9917 Valid Loss: 0.0839 Valid Acc: 0.9767\n",
      "Epoch 153/199\n",
      "----------\n"
     ]
    },
    {
     "name": "stderr",
     "output_type": "stream",
     "text": [
      "Training Epoch 154: 100%|██████████| 150/150 [00:22<00:00,  6.57it/s, Batch=Batch_2400, Train Accuracy=0.998, Train Loss=0.006]\n",
      "Validation Epoch 154: 100%|██████████| 19/19 [00:04<00:00,  4.72it/s, Val Accuracy=0.977, Val Loss=0.073]\n"
     ]
    },
    {
     "name": "stdout",
     "output_type": "stream",
     "text": [
      "Train Loss: 0.0060 Train Acc: 0.9979 Valid Loss: 0.0730 Valid Acc: 0.9767\n",
      "Epoch 154/199\n",
      "----------\n"
     ]
    },
    {
     "name": "stderr",
     "output_type": "stream",
     "text": [
      "Training Epoch 155: 100%|██████████| 150/150 [00:22<00:00,  6.52it/s, Batch=Batch_2400, Train Accuracy=0.995, Train Loss=0.027]\n",
      "Validation Epoch 155: 100%|██████████| 19/19 [00:04<00:00,  4.67it/s, Val Accuracy=0.980, Val Loss=0.055]\n"
     ]
    },
    {
     "name": "stdout",
     "output_type": "stream",
     "text": [
      "Train Loss: 0.0271 Train Acc: 0.9954 Valid Loss: 0.0551 Valid Acc: 0.9800\n",
      "Epoch 155/199\n",
      "----------\n"
     ]
    },
    {
     "name": "stderr",
     "output_type": "stream",
     "text": [
      "Training Epoch 156: 100%|██████████| 150/150 [00:22<00:00,  6.57it/s, Batch=Batch_2400, Train Accuracy=0.998, Train Loss=0.006]\n",
      "Validation Epoch 156: 100%|██████████| 19/19 [00:03<00:00,  4.84it/s, Val Accuracy=0.977, Val Loss=0.085]\n"
     ]
    },
    {
     "name": "stdout",
     "output_type": "stream",
     "text": [
      "Train Loss: 0.0065 Train Acc: 0.9979 Valid Loss: 0.0847 Valid Acc: 0.9767\n",
      "Epoch 156/199\n",
      "----------\n"
     ]
    },
    {
     "name": "stderr",
     "output_type": "stream",
     "text": [
      "Training Epoch 157: 100%|██████████| 150/150 [00:22<00:00,  6.54it/s, Batch=Batch_2400, Train Accuracy=0.994, Train Loss=0.012]\n",
      "Validation Epoch 157: 100%|██████████| 19/19 [00:04<00:00,  4.69it/s, Val Accuracy=0.980, Val Loss=0.104]\n"
     ]
    },
    {
     "name": "stdout",
     "output_type": "stream",
     "text": [
      "Train Loss: 0.0116 Train Acc: 0.9942 Valid Loss: 0.1040 Valid Acc: 0.9800\n",
      "Epoch 157/199\n",
      "----------\n"
     ]
    },
    {
     "name": "stderr",
     "output_type": "stream",
     "text": [
      "Training Epoch 158: 100%|██████████| 150/150 [00:22<00:00,  6.52it/s, Batch=Batch_2400, Train Accuracy=0.998, Train Loss=0.011]\n",
      "Validation Epoch 158: 100%|██████████| 19/19 [00:04<00:00,  4.70it/s, Val Accuracy=0.967, Val Loss=0.084]\n"
     ]
    },
    {
     "name": "stdout",
     "output_type": "stream",
     "text": [
      "Train Loss: 0.0111 Train Acc: 0.9975 Valid Loss: 0.0843 Valid Acc: 0.9667\n",
      "Epoch 158/199\n",
      "----------\n"
     ]
    },
    {
     "name": "stderr",
     "output_type": "stream",
     "text": [
      "Training Epoch 159: 100%|██████████| 150/150 [00:23<00:00,  6.48it/s, Batch=Batch_2400, Train Accuracy=0.998, Train Loss=0.008]\n",
      "Validation Epoch 159: 100%|██████████| 19/19 [00:03<00:00,  4.81it/s, Val Accuracy=0.973, Val Loss=0.077]\n"
     ]
    },
    {
     "name": "stdout",
     "output_type": "stream",
     "text": [
      "Train Loss: 0.0077 Train Acc: 0.9979 Valid Loss: 0.0766 Valid Acc: 0.9733\n",
      "Epoch 159/199\n",
      "----------\n"
     ]
    },
    {
     "name": "stderr",
     "output_type": "stream",
     "text": [
      "Training Epoch 160: 100%|██████████| 150/150 [00:23<00:00,  6.48it/s, Batch=Batch_2400, Train Accuracy=0.997, Train Loss=0.019]\n",
      "Validation Epoch 160: 100%|██████████| 19/19 [00:04<00:00,  4.56it/s, Val Accuracy=0.973, Val Loss=0.066]\n"
     ]
    },
    {
     "name": "stdout",
     "output_type": "stream",
     "text": [
      "Train Loss: 0.0194 Train Acc: 0.9971 Valid Loss: 0.0663 Valid Acc: 0.9733\n",
      "Epoch 160/199\n",
      "----------\n"
     ]
    },
    {
     "name": "stderr",
     "output_type": "stream",
     "text": [
      "Training Epoch 161: 100%|██████████| 150/150 [00:22<00:00,  6.54it/s, Batch=Batch_2400, Train Accuracy=0.995, Train Loss=0.024]\n",
      "Validation Epoch 161: 100%|██████████| 19/19 [00:03<00:00,  4.80it/s, Val Accuracy=0.953, Val Loss=0.204]\n"
     ]
    },
    {
     "name": "stdout",
     "output_type": "stream",
     "text": [
      "Train Loss: 0.0238 Train Acc: 0.9954 Valid Loss: 0.2042 Valid Acc: 0.9533\n",
      "Epoch 161/199\n",
      "----------\n"
     ]
    },
    {
     "name": "stderr",
     "output_type": "stream",
     "text": [
      "Training Epoch 162: 100%|██████████| 150/150 [00:23<00:00,  6.49it/s, Batch=Batch_2400, Train Accuracy=0.995, Train Loss=0.024]\n",
      "Validation Epoch 162: 100%|██████████| 19/19 [00:03<00:00,  4.78it/s, Val Accuracy=0.930, Val Loss=0.267]\n"
     ]
    },
    {
     "name": "stdout",
     "output_type": "stream",
     "text": [
      "Train Loss: 0.0240 Train Acc: 0.9946 Valid Loss: 0.2672 Valid Acc: 0.9300\n",
      "Epoch 162/199\n",
      "----------\n"
     ]
    },
    {
     "name": "stderr",
     "output_type": "stream",
     "text": [
      "Training Epoch 163: 100%|██████████| 150/150 [00:23<00:00,  6.48it/s, Batch=Batch_2400, Train Accuracy=0.996, Train Loss=0.009]\n",
      "Validation Epoch 163: 100%|██████████| 19/19 [00:04<00:00,  4.69it/s, Val Accuracy=0.957, Val Loss=0.218]\n"
     ]
    },
    {
     "name": "stdout",
     "output_type": "stream",
     "text": [
      "Train Loss: 0.0087 Train Acc: 0.9963 Valid Loss: 0.2178 Valid Acc: 0.9567\n",
      "Epoch 163/199\n",
      "----------\n"
     ]
    },
    {
     "name": "stderr",
     "output_type": "stream",
     "text": [
      "Training Epoch 164: 100%|██████████| 150/150 [00:23<00:00,  6.43it/s, Batch=Batch_2400, Train Accuracy=0.999, Train Loss=0.005]\n",
      "Validation Epoch 164: 100%|██████████| 19/19 [00:03<00:00,  4.77it/s, Val Accuracy=0.977, Val Loss=0.070]\n"
     ]
    },
    {
     "name": "stdout",
     "output_type": "stream",
     "text": [
      "Train Loss: 0.0046 Train Acc: 0.9988 Valid Loss: 0.0696 Valid Acc: 0.9767\n",
      "Epoch 164/199\n",
      "----------\n"
     ]
    },
    {
     "name": "stderr",
     "output_type": "stream",
     "text": [
      "Training Epoch 165: 100%|██████████| 150/150 [00:23<00:00,  6.48it/s, Batch=Batch_2400, Train Accuracy=0.999, Train Loss=0.003]\n",
      "Validation Epoch 165: 100%|██████████| 19/19 [00:04<00:00,  4.69it/s, Val Accuracy=0.980, Val Loss=0.053]\n"
     ]
    },
    {
     "name": "stdout",
     "output_type": "stream",
     "text": [
      "Train Loss: 0.0029 Train Acc: 0.9992 Valid Loss: 0.0534 Valid Acc: 0.9800\n",
      "Epoch 165/199\n",
      "----------\n"
     ]
    },
    {
     "name": "stderr",
     "output_type": "stream",
     "text": [
      "Training Epoch 166: 100%|██████████| 150/150 [00:23<00:00,  6.51it/s, Batch=Batch_2400, Train Accuracy=1.000, Train Loss=0.002]\n",
      "Validation Epoch 166: 100%|██████████| 19/19 [00:03<00:00,  4.92it/s, Val Accuracy=0.983, Val Loss=0.039]\n"
     ]
    },
    {
     "name": "stdout",
     "output_type": "stream",
     "text": [
      "Train Loss: 0.0018 Train Acc: 0.9996 Valid Loss: 0.0395 Valid Acc: 0.9833\n",
      "Epoch 166/199\n",
      "----------\n"
     ]
    },
    {
     "name": "stderr",
     "output_type": "stream",
     "text": [
      "Training Epoch 167: 100%|██████████| 150/150 [00:22<00:00,  6.60it/s, Batch=Batch_2400, Train Accuracy=0.999, Train Loss=0.005]\n",
      "Validation Epoch 167: 100%|██████████| 19/19 [00:04<00:00,  4.56it/s, Val Accuracy=0.980, Val Loss=0.051]\n"
     ]
    },
    {
     "name": "stdout",
     "output_type": "stream",
     "text": [
      "Train Loss: 0.0053 Train Acc: 0.9988 Valid Loss: 0.0509 Valid Acc: 0.9800\n",
      "Epoch 167/199\n",
      "----------\n"
     ]
    },
    {
     "name": "stderr",
     "output_type": "stream",
     "text": [
      "Training Epoch 168: 100%|██████████| 150/150 [00:22<00:00,  6.57it/s, Batch=Batch_2400, Train Accuracy=0.998, Train Loss=0.005]\n",
      "Validation Epoch 168: 100%|██████████| 19/19 [00:03<00:00,  4.83it/s, Val Accuracy=0.987, Val Loss=0.067]\n"
     ]
    },
    {
     "name": "stdout",
     "output_type": "stream",
     "text": [
      "Train Loss: 0.0049 Train Acc: 0.9983 Valid Loss: 0.0672 Valid Acc: 0.9867\n",
      "Epoch 168/199\n",
      "----------\n"
     ]
    },
    {
     "name": "stderr",
     "output_type": "stream",
     "text": [
      "Training Epoch 169: 100%|██████████| 150/150 [00:22<00:00,  6.65it/s, Batch=Batch_2400, Train Accuracy=0.995, Train Loss=0.013]\n",
      "Validation Epoch 169: 100%|██████████| 19/19 [00:03<00:00,  4.77it/s, Val Accuracy=0.967, Val Loss=0.107]\n"
     ]
    },
    {
     "name": "stdout",
     "output_type": "stream",
     "text": [
      "Train Loss: 0.0128 Train Acc: 0.9950 Valid Loss: 0.1074 Valid Acc: 0.9667\n",
      "Epoch 169/199\n",
      "----------\n"
     ]
    },
    {
     "name": "stderr",
     "output_type": "stream",
     "text": [
      "Training Epoch 170: 100%|██████████| 150/150 [00:22<00:00,  6.63it/s, Batch=Batch_2400, Train Accuracy=0.998, Train Loss=0.008]\n",
      "Validation Epoch 170: 100%|██████████| 19/19 [00:03<00:00,  4.76it/s, Val Accuracy=0.977, Val Loss=0.071]\n"
     ]
    },
    {
     "name": "stdout",
     "output_type": "stream",
     "text": [
      "Train Loss: 0.0078 Train Acc: 0.9975 Valid Loss: 0.0708 Valid Acc: 0.9767\n",
      "Epoch 170/199\n",
      "----------\n"
     ]
    },
    {
     "name": "stderr",
     "output_type": "stream",
     "text": [
      "Training Epoch 171: 100%|██████████| 150/150 [00:22<00:00,  6.59it/s, Batch=Batch_2400, Train Accuracy=1.000, Train Loss=0.001]\n",
      "Validation Epoch 171: 100%|██████████| 19/19 [00:04<00:00,  4.73it/s, Val Accuracy=0.983, Val Loss=0.071]\n"
     ]
    },
    {
     "name": "stdout",
     "output_type": "stream",
     "text": [
      "Train Loss: 0.0014 Train Acc: 0.9996 Valid Loss: 0.0712 Valid Acc: 0.9833\n",
      "Epoch 171/199\n",
      "----------\n"
     ]
    },
    {
     "name": "stderr",
     "output_type": "stream",
     "text": [
      "Training Epoch 172: 100%|██████████| 150/150 [00:22<00:00,  6.59it/s, Batch=Batch_2400, Train Accuracy=0.997, Train Loss=0.019]\n",
      "Validation Epoch 172: 100%|██████████| 19/19 [00:03<00:00,  4.81it/s, Val Accuracy=0.977, Val Loss=0.080]\n"
     ]
    },
    {
     "name": "stdout",
     "output_type": "stream",
     "text": [
      "Train Loss: 0.0193 Train Acc: 0.9967 Valid Loss: 0.0797 Valid Acc: 0.9767\n",
      "Epoch 172/199\n",
      "----------\n"
     ]
    },
    {
     "name": "stderr",
     "output_type": "stream",
     "text": [
      "Training Epoch 173: 100%|██████████| 150/150 [00:22<00:00,  6.62it/s, Batch=Batch_2400, Train Accuracy=0.996, Train Loss=0.021]\n",
      "Validation Epoch 173: 100%|██████████| 19/19 [00:04<00:00,  4.64it/s, Val Accuracy=0.977, Val Loss=0.060]\n"
     ]
    },
    {
     "name": "stdout",
     "output_type": "stream",
     "text": [
      "Train Loss: 0.0206 Train Acc: 0.9958 Valid Loss: 0.0598 Valid Acc: 0.9767\n",
      "Epoch 173/199\n",
      "----------\n"
     ]
    },
    {
     "name": "stderr",
     "output_type": "stream",
     "text": [
      "Training Epoch 174: 100%|██████████| 150/150 [00:22<00:00,  6.62it/s, Batch=Batch_2400, Train Accuracy=0.999, Train Loss=0.003]\n",
      "Validation Epoch 174: 100%|██████████| 19/19 [00:04<00:00,  4.74it/s, Val Accuracy=0.983, Val Loss=0.059]\n"
     ]
    },
    {
     "name": "stdout",
     "output_type": "stream",
     "text": [
      "Train Loss: 0.0027 Train Acc: 0.9988 Valid Loss: 0.0586 Valid Acc: 0.9833\n",
      "Epoch 174/199\n",
      "----------\n"
     ]
    },
    {
     "name": "stderr",
     "output_type": "stream",
     "text": [
      "Training Epoch 175: 100%|██████████| 150/150 [00:22<00:00,  6.59it/s, Batch=Batch_2400, Train Accuracy=1.000, Train Loss=0.003]\n",
      "Validation Epoch 175: 100%|██████████| 19/19 [00:04<00:00,  4.71it/s, Val Accuracy=0.983, Val Loss=0.054]\n"
     ]
    },
    {
     "name": "stdout",
     "output_type": "stream",
     "text": [
      "Train Loss: 0.0025 Train Acc: 0.9996 Valid Loss: 0.0536 Valid Acc: 0.9833\n",
      "Epoch 175/199\n",
      "----------\n"
     ]
    },
    {
     "name": "stderr",
     "output_type": "stream",
     "text": [
      "Training Epoch 176: 100%|██████████| 150/150 [00:22<00:00,  6.62it/s, Batch=Batch_2400, Train Accuracy=1.000, Train Loss=0.002]\n",
      "Validation Epoch 176: 100%|██████████| 19/19 [00:04<00:00,  4.73it/s, Val Accuracy=0.983, Val Loss=0.051]\n"
     ]
    },
    {
     "name": "stdout",
     "output_type": "stream",
     "text": [
      "Train Loss: 0.0018 Train Acc: 0.9996 Valid Loss: 0.0512 Valid Acc: 0.9833\n",
      "Epoch 176/199\n",
      "----------\n"
     ]
    },
    {
     "name": "stderr",
     "output_type": "stream",
     "text": [
      "Training Epoch 177: 100%|██████████| 150/150 [00:22<00:00,  6.64it/s, Batch=Batch_2400, Train Accuracy=1.000, Train Loss=0.002]\n",
      "Validation Epoch 177: 100%|██████████| 19/19 [00:03<00:00,  4.88it/s, Val Accuracy=0.983, Val Loss=0.050]\n"
     ]
    },
    {
     "name": "stdout",
     "output_type": "stream",
     "text": [
      "Train Loss: 0.0017 Train Acc: 0.9996 Valid Loss: 0.0503 Valid Acc: 0.9833\n",
      "Epoch 177/199\n",
      "----------\n"
     ]
    },
    {
     "name": "stderr",
     "output_type": "stream",
     "text": [
      "Training Epoch 178: 100%|██████████| 150/150 [00:22<00:00,  6.65it/s, Batch=Batch_2400, Train Accuracy=1.000, Train Loss=0.002]\n",
      "Validation Epoch 178: 100%|██████████| 19/19 [00:04<00:00,  4.69it/s, Val Accuracy=0.973, Val Loss=0.068]\n"
     ]
    },
    {
     "name": "stdout",
     "output_type": "stream",
     "text": [
      "Train Loss: 0.0021 Train Acc: 0.9996 Valid Loss: 0.0679 Valid Acc: 0.9733\n",
      "Epoch 178/199\n",
      "----------\n"
     ]
    },
    {
     "name": "stderr",
     "output_type": "stream",
     "text": [
      "Training Epoch 179: 100%|██████████| 150/150 [00:22<00:00,  6.60it/s, Batch=Batch_2400, Train Accuracy=1.000, Train Loss=0.002]\n",
      "Validation Epoch 179: 100%|██████████| 19/19 [00:04<00:00,  4.74it/s, Val Accuracy=0.980, Val Loss=0.051]\n"
     ]
    },
    {
     "name": "stdout",
     "output_type": "stream",
     "text": [
      "Train Loss: 0.0016 Train Acc: 0.9996 Valid Loss: 0.0509 Valid Acc: 0.9800\n",
      "Epoch 179/199\n",
      "----------\n"
     ]
    },
    {
     "name": "stderr",
     "output_type": "stream",
     "text": [
      "Training Epoch 180: 100%|██████████| 150/150 [00:22<00:00,  6.60it/s, Batch=Batch_2400, Train Accuracy=0.998, Train Loss=0.011]\n",
      "Validation Epoch 180: 100%|██████████| 19/19 [00:04<00:00,  4.57it/s, Val Accuracy=0.970, Val Loss=0.095]\n"
     ]
    },
    {
     "name": "stdout",
     "output_type": "stream",
     "text": [
      "Train Loss: 0.0112 Train Acc: 0.9983 Valid Loss: 0.0947 Valid Acc: 0.9700\n",
      "Epoch 180/199\n",
      "----------\n"
     ]
    },
    {
     "name": "stderr",
     "output_type": "stream",
     "text": [
      "Training Epoch 181: 100%|██████████| 150/150 [00:22<00:00,  6.56it/s, Batch=Batch_2400, Train Accuracy=0.998, Train Loss=0.005]\n",
      "Validation Epoch 181: 100%|██████████| 19/19 [00:04<00:00,  4.71it/s, Val Accuracy=0.980, Val Loss=0.046]\n"
     ]
    },
    {
     "name": "stdout",
     "output_type": "stream",
     "text": [
      "Train Loss: 0.0054 Train Acc: 0.9983 Valid Loss: 0.0464 Valid Acc: 0.9800\n",
      "Epoch 181/199\n",
      "----------\n"
     ]
    },
    {
     "name": "stderr",
     "output_type": "stream",
     "text": [
      "Training Epoch 182: 100%|██████████| 150/150 [00:22<00:00,  6.62it/s, Batch=Batch_2400, Train Accuracy=1.000, Train Loss=0.001]\n",
      "Validation Epoch 182: 100%|██████████| 19/19 [00:04<00:00,  4.72it/s, Val Accuracy=0.987, Val Loss=0.053]\n"
     ]
    },
    {
     "name": "stdout",
     "output_type": "stream",
     "text": [
      "Train Loss: 0.0009 Train Acc: 1.0000 Valid Loss: 0.0534 Valid Acc: 0.9867\n",
      "Epoch 182/199\n",
      "----------\n"
     ]
    },
    {
     "name": "stderr",
     "output_type": "stream",
     "text": [
      "Training Epoch 183: 100%|██████████| 150/150 [00:22<00:00,  6.65it/s, Batch=Batch_2400, Train Accuracy=0.999, Train Loss=0.003]\n",
      "Validation Epoch 183: 100%|██████████| 19/19 [00:03<00:00,  4.92it/s, Val Accuracy=0.983, Val Loss=0.051]\n"
     ]
    },
    {
     "name": "stdout",
     "output_type": "stream",
     "text": [
      "Train Loss: 0.0032 Train Acc: 0.9992 Valid Loss: 0.0509 Valid Acc: 0.9833\n",
      "Epoch 183/199\n",
      "----------\n"
     ]
    },
    {
     "name": "stderr",
     "output_type": "stream",
     "text": [
      "Training Epoch 184: 100%|██████████| 150/150 [00:22<00:00,  6.65it/s, Batch=Batch_2400, Train Accuracy=1.000, Train Loss=0.002]\n",
      "Validation Epoch 184: 100%|██████████| 19/19 [00:04<00:00,  4.53it/s, Val Accuracy=0.977, Val Loss=0.058]\n"
     ]
    },
    {
     "name": "stdout",
     "output_type": "stream",
     "text": [
      "Train Loss: 0.0016 Train Acc: 0.9996 Valid Loss: 0.0584 Valid Acc: 0.9767\n",
      "Epoch 184/199\n",
      "----------\n"
     ]
    },
    {
     "name": "stderr",
     "output_type": "stream",
     "text": [
      "Training Epoch 185: 100%|██████████| 150/150 [00:23<00:00,  6.51it/s, Batch=Batch_2400, Train Accuracy=1.000, Train Loss=0.002]\n",
      "Validation Epoch 185: 100%|██████████| 19/19 [00:03<00:00,  4.79it/s, Val Accuracy=0.977, Val Loss=0.051]\n"
     ]
    },
    {
     "name": "stdout",
     "output_type": "stream",
     "text": [
      "Train Loss: 0.0015 Train Acc: 0.9996 Valid Loss: 0.0507 Valid Acc: 0.9767\n",
      "Epoch 185/199\n",
      "----------\n"
     ]
    },
    {
     "name": "stderr",
     "output_type": "stream",
     "text": [
      "Training Epoch 186: 100%|██████████| 150/150 [00:22<00:00,  6.66it/s, Batch=Batch_2400, Train Accuracy=1.000, Train Loss=0.000]\n",
      "Validation Epoch 186: 100%|██████████| 19/19 [00:03<00:00,  4.90it/s, Val Accuracy=0.980, Val Loss=0.048]\n"
     ]
    },
    {
     "name": "stdout",
     "output_type": "stream",
     "text": [
      "Train Loss: 0.0005 Train Acc: 1.0000 Valid Loss: 0.0483 Valid Acc: 0.9800\n",
      "Epoch 186/199\n",
      "----------\n"
     ]
    },
    {
     "name": "stderr",
     "output_type": "stream",
     "text": [
      "Training Epoch 187: 100%|██████████| 150/150 [00:22<00:00,  6.66it/s, Batch=Batch_2400, Train Accuracy=1.000, Train Loss=0.001]\n",
      "Validation Epoch 187: 100%|██████████| 19/19 [00:04<00:00,  4.74it/s, Val Accuracy=0.973, Val Loss=0.063]\n"
     ]
    },
    {
     "name": "stdout",
     "output_type": "stream",
     "text": [
      "Train Loss: 0.0007 Train Acc: 1.0000 Valid Loss: 0.0630 Valid Acc: 0.9733\n",
      "Epoch 187/199\n",
      "----------\n"
     ]
    },
    {
     "name": "stderr",
     "output_type": "stream",
     "text": [
      "Training Epoch 188: 100%|██████████| 150/150 [00:22<00:00,  6.66it/s, Batch=Batch_2400, Train Accuracy=1.000, Train Loss=0.001]\n",
      "Validation Epoch 188: 100%|██████████| 19/19 [00:03<00:00,  4.87it/s, Val Accuracy=0.980, Val Loss=0.066]\n"
     ]
    },
    {
     "name": "stdout",
     "output_type": "stream",
     "text": [
      "Train Loss: 0.0007 Train Acc: 1.0000 Valid Loss: 0.0658 Valid Acc: 0.9800\n",
      "Epoch 188/199\n",
      "----------\n"
     ]
    },
    {
     "name": "stderr",
     "output_type": "stream",
     "text": [
      "Training Epoch 189: 100%|██████████| 150/150 [00:22<00:00,  6.67it/s, Batch=Batch_2400, Train Accuracy=1.000, Train Loss=0.001]\n",
      "Validation Epoch 189: 100%|██████████| 19/19 [00:03<00:00,  4.94it/s, Val Accuracy=0.980, Val Loss=0.060]\n"
     ]
    },
    {
     "name": "stdout",
     "output_type": "stream",
     "text": [
      "Train Loss: 0.0008 Train Acc: 1.0000 Valid Loss: 0.0604 Valid Acc: 0.9800\n",
      "Epoch 189/199\n",
      "----------\n"
     ]
    },
    {
     "name": "stderr",
     "output_type": "stream",
     "text": [
      "Training Epoch 190: 100%|██████████| 150/150 [00:22<00:00,  6.63it/s, Batch=Batch_2400, Train Accuracy=1.000, Train Loss=0.001]\n",
      "Validation Epoch 190: 100%|██████████| 19/19 [00:03<00:00,  4.91it/s, Val Accuracy=0.980, Val Loss=0.052]\n"
     ]
    },
    {
     "name": "stdout",
     "output_type": "stream",
     "text": [
      "Train Loss: 0.0007 Train Acc: 1.0000 Valid Loss: 0.0518 Valid Acc: 0.9800\n",
      "Epoch 190/199\n",
      "----------\n"
     ]
    },
    {
     "name": "stderr",
     "output_type": "stream",
     "text": [
      "Training Epoch 191: 100%|██████████| 150/150 [00:22<00:00,  6.66it/s, Batch=Batch_2400, Train Accuracy=1.000, Train Loss=0.001]\n",
      "Validation Epoch 191: 100%|██████████| 19/19 [00:03<00:00,  4.86it/s, Val Accuracy=0.980, Val Loss=0.057]\n"
     ]
    },
    {
     "name": "stdout",
     "output_type": "stream",
     "text": [
      "Train Loss: 0.0008 Train Acc: 0.9996 Valid Loss: 0.0571 Valid Acc: 0.9800\n",
      "Epoch 191/199\n",
      "----------\n"
     ]
    },
    {
     "name": "stderr",
     "output_type": "stream",
     "text": [
      "Training Epoch 192: 100%|██████████| 150/150 [00:22<00:00,  6.65it/s, Batch=Batch_2400, Train Accuracy=1.000, Train Loss=0.001]\n",
      "Validation Epoch 192: 100%|██████████| 19/19 [00:04<00:00,  4.73it/s, Val Accuracy=0.980, Val Loss=0.051]\n"
     ]
    },
    {
     "name": "stdout",
     "output_type": "stream",
     "text": [
      "Train Loss: 0.0006 Train Acc: 1.0000 Valid Loss: 0.0506 Valid Acc: 0.9800\n",
      "Epoch 192/199\n",
      "----------\n"
     ]
    },
    {
     "name": "stderr",
     "output_type": "stream",
     "text": [
      "Training Epoch 193: 100%|██████████| 150/150 [00:22<00:00,  6.59it/s, Batch=Batch_2400, Train Accuracy=1.000, Train Loss=0.001]\n",
      "Validation Epoch 193: 100%|██████████| 19/19 [00:04<00:00,  4.72it/s, Val Accuracy=0.980, Val Loss=0.060]\n"
     ]
    },
    {
     "name": "stdout",
     "output_type": "stream",
     "text": [
      "Train Loss: 0.0012 Train Acc: 0.9996 Valid Loss: 0.0603 Valid Acc: 0.9800\n",
      "Epoch 193/199\n",
      "----------\n"
     ]
    },
    {
     "name": "stderr",
     "output_type": "stream",
     "text": [
      "Training Epoch 194: 100%|██████████| 150/150 [00:22<00:00,  6.62it/s, Batch=Batch_2400, Train Accuracy=1.000, Train Loss=0.000]\n",
      "Validation Epoch 194: 100%|██████████| 19/19 [00:04<00:00,  4.70it/s, Val Accuracy=0.970, Val Loss=0.062]\n"
     ]
    },
    {
     "name": "stdout",
     "output_type": "stream",
     "text": [
      "Train Loss: 0.0004 Train Acc: 1.0000 Valid Loss: 0.0615 Valid Acc: 0.9700\n",
      "Epoch 194/199\n",
      "----------\n"
     ]
    },
    {
     "name": "stderr",
     "output_type": "stream",
     "text": [
      "Training Epoch 195: 100%|██████████| 150/150 [00:22<00:00,  6.57it/s, Batch=Batch_2400, Train Accuracy=1.000, Train Loss=0.002]\n",
      "Validation Epoch 195: 100%|██████████| 19/19 [00:04<00:00,  4.46it/s, Val Accuracy=0.980, Val Loss=0.056]\n"
     ]
    },
    {
     "name": "stdout",
     "output_type": "stream",
     "text": [
      "Train Loss: 0.0021 Train Acc: 0.9996 Valid Loss: 0.0562 Valid Acc: 0.9800\n",
      "Epoch 195/199\n",
      "----------\n"
     ]
    },
    {
     "name": "stderr",
     "output_type": "stream",
     "text": [
      "Training Epoch 196: 100%|██████████| 150/150 [00:22<00:00,  6.59it/s, Batch=Batch_2400, Train Accuracy=1.000, Train Loss=0.000]\n",
      "Validation Epoch 196: 100%|██████████| 19/19 [00:03<00:00,  4.77it/s, Val Accuracy=0.980, Val Loss=0.051]\n"
     ]
    },
    {
     "name": "stdout",
     "output_type": "stream",
     "text": [
      "Train Loss: 0.0005 Train Acc: 1.0000 Valid Loss: 0.0509 Valid Acc: 0.9800\n",
      "Epoch 196/199\n",
      "----------\n"
     ]
    },
    {
     "name": "stderr",
     "output_type": "stream",
     "text": [
      "Training Epoch 197: 100%|██████████| 150/150 [00:22<00:00,  6.61it/s, Batch=Batch_2400, Train Accuracy=1.000, Train Loss=0.001]\n",
      "Validation Epoch 197: 100%|██████████| 19/19 [00:04<00:00,  4.72it/s, Val Accuracy=0.980, Val Loss=0.056]\n"
     ]
    },
    {
     "name": "stdout",
     "output_type": "stream",
     "text": [
      "Train Loss: 0.0007 Train Acc: 1.0000 Valid Loss: 0.0555 Valid Acc: 0.9800\n",
      "Epoch 197/199\n",
      "----------\n"
     ]
    },
    {
     "name": "stderr",
     "output_type": "stream",
     "text": [
      "Training Epoch 198: 100%|██████████| 150/150 [00:22<00:00,  6.59it/s, Batch=Batch_2400, Train Accuracy=1.000, Train Loss=0.001]\n",
      "Validation Epoch 198: 100%|██████████| 19/19 [00:03<00:00,  4.80it/s, Val Accuracy=0.980, Val Loss=0.048]\n"
     ]
    },
    {
     "name": "stdout",
     "output_type": "stream",
     "text": [
      "Train Loss: 0.0007 Train Acc: 0.9996 Valid Loss: 0.0477 Valid Acc: 0.9800\n",
      "Epoch 198/199\n",
      "----------\n"
     ]
    },
    {
     "name": "stderr",
     "output_type": "stream",
     "text": [
      "Training Epoch 199: 100%|██████████| 150/150 [00:22<00:00,  6.55it/s, Batch=Batch_2400, Train Accuracy=1.000, Train Loss=0.001]\n",
      "Validation Epoch 199: 100%|██████████| 19/19 [00:03<00:00,  4.85it/s, Val Accuracy=0.980, Val Loss=0.054]\n"
     ]
    },
    {
     "name": "stdout",
     "output_type": "stream",
     "text": [
      "Train Loss: 0.0007 Train Acc: 0.9996 Valid Loss: 0.0536 Valid Acc: 0.9800\n",
      "Epoch 199/199\n",
      "----------\n"
     ]
    },
    {
     "name": "stderr",
     "output_type": "stream",
     "text": [
      "Training Epoch 200: 100%|██████████| 150/150 [00:22<00:00,  6.58it/s, Batch=Batch_2400, Train Accuracy=1.000, Train Loss=0.000]\n",
      "Validation Epoch 200: 100%|██████████| 19/19 [00:04<00:00,  4.69it/s, Val Accuracy=0.983, Val Loss=0.060]"
     ]
    },
    {
     "name": "stdout",
     "output_type": "stream",
     "text": [
      "Train Loss: 0.0002 Train Acc: 1.0000 Valid Loss: 0.0596 Valid Acc: 0.9833\n",
      "Best accuracy 0.9933333333333334\n"
     ]
    },
    {
     "name": "stderr",
     "output_type": "stream",
     "text": [
      "\n"
     ]
    }
   ],
   "source": [
    "new_model, train_loss, valid_loss = train_model(model, criterion, optimizer, exp_lr_scheduler, loaders, n_epochs)"
   ]
  },
  {
   "cell_type": "code",
   "execution_count": 10,
   "metadata": {},
   "outputs": [],
   "source": [
    "from sklearn.metrics import confusion_matrix, accuracy_score, precision_score, recall_score, f1_score\n",
    "import matplotlib.pyplot as plt\n",
    "import seaborn as sns"
   ]
  },
  {
   "cell_type": "code",
   "execution_count": 11,
   "metadata": {},
   "outputs": [],
   "source": [
    "# 确保模型处于评估模式\n",
    "model.eval()\n",
    "\n",
    "# 收集预测结果\n",
    "all_preds = []\n",
    "all_labels = []\n",
    "with torch.no_grad():\n",
    "    for inputs, labels in test_loader:\n",
    "        inputs, labels = inputs.to(device), labels.to(device)\n",
    "        outputs = model(inputs)\n",
    "        _, preds = torch.max(outputs, 1)\n",
    "        all_preds.extend(preds.cpu().numpy())\n",
    "        all_labels.extend(labels.cpu().numpy())"
   ]
  },
  {
   "cell_type": "code",
   "execution_count": 12,
   "metadata": {},
   "outputs": [],
   "source": [
    "test_classes = ['aca', 'normal', 'scc']"
   ]
  },
  {
   "cell_type": "code",
   "execution_count": 13,
   "metadata": {},
   "outputs": [
    {
     "name": "stdout",
     "output_type": "stream",
     "text": [
      "Accuracy: 0.9710\n",
      "Precision: 0.9718\n",
      "Recall: 0.9710\n",
      "F1 Score: 0.9710\n"
     ]
    },
    {
     "data": {
      "image/png": "[encoded data removed]",
      "text/plain": [
       "<Figure size 640x480 with 2 Axes>"
      ]
     },
     "metadata": {},
     "output_type": "display_data"
    }
   ],
   "source": [
    "# test_classes = ['Bengin', 'Malignant', 'Normal']\n",
    "# # 计算评价指标\n",
    "\n",
    "accuracy = accuracy_score(all_labels, all_preds)\n",
    "precision = precision_score(all_labels, all_preds, average='macro')\n",
    "recall = recall_score(all_labels, all_preds, average='macro')\n",
    "f1 = f1_score(all_labels, all_preds, average='macro')\n",
    "\n",
    "# 打印评价指标\n",
    "print(f'Accuracy: {accuracy:.4f}')\n",
    "print(f'Precision: {precision:.4f}')\n",
    "print(f'Recall: {recall:.4f}')\n",
    "print(f'F1 Score: {f1:.4f}')\n",
    "\n",
    "# 计算混淆矩阵\n",
    "conf_mat = confusion_matrix(all_labels, all_preds)\n",
    "\n",
    "# 可视化混淆矩阵\n",
    "sns.heatmap(conf_mat, fmt='g', annot=True, cmap='Blues', xticklabels=test_classes, yticklabels=test_classes)\n",
    "plt.title('resnet50+')\n",
    "plt.xticks(rotation=45)  # 旋转x轴标签以便更容易阅读\n",
    "plt.yticks(rotation=45)  # 旋转y轴标签以便更容易阅读\n",
    "plt.show()"
   ]
  },
  {
   "cell_type": "code",
   "execution_count": 14,
   "metadata": {},
   "outputs": [],
   "source": [
    "train_acc=[]\n",
    "val_acc=[]\n",
    "for i in range(len(t_acc)):\n",
    "    train_acc.append(t_acc[i].cpu().numpy())\n",
    "for i in range(len(v_acc)):\n",
    "    val_acc.append(v_acc[i].cpu().numpy())"
   ]
  },
  {
   "cell_type": "code",
   "execution_count": 15,
   "metadata": {},
   "outputs": [
    {
     "data": {
      "image/png": "[encoded data removed]",
      "text/plain": [
       "<Figure size 500x500 with 1 Axes>"
      ]
     },
     "metadata": {},
     "output_type": "display_data"
    }
   ],
   "source": [
    "epochs = range(1, len(train_acc) + 1)\n",
    "\n",
    "plt.figure(figsize=(5, 5))\n",
    "plt.plot(epochs, train_acc, marker='o', linestyle='-', label='Train Accuracy')\n",
    "plt.plot(epochs, val_acc, marker='x', linestyle='-', label='Validation Accuracy')\n",
    "plt.xlabel('Epoch')\n",
    "plt.ylabel('Accuracy')\n",
    "plt.title('Training and Validation Accuracy vs. Epoch')\n",
    "plt.legend()\n",
    "# plt.grid(True)\n",
    "plt.tight_layout()\n",
    "plt.show()\n"
   ]
  },
  {
   "cell_type": "code",
   "execution_count": 16,
   "metadata": {},
   "outputs": [
    {
     "data": {
      "image/png": "[encoded data removed]",
      "text/plain": [
       "<Figure size 500x500 with 1 Axes>"
      ]
     },
     "metadata": {},
     "output_type": "display_data"
    }
   ],
   "source": [
    "epochs = range(1, len(train_loss) + 1)\n",
    "\n",
    "plt.figure(figsize=(5, 5))\n",
    "plt.plot(epochs, train_loss, marker='o', linestyle='-', label='Train loss')\n",
    "plt.plot(epochs, valid_loss, marker='x', linestyle='-', label='Validation loss')\n",
    "plt.xlabel('Epoch')\n",
    "plt.ylabel('loss')\n",
    "plt.title('Training and Validation loss vs. Epoch')\n",
    "plt.legend()\n",
    "# plt.grid(True)\n",
    "plt.tight_layout()\n",
    "plt.show()"
   ]
  }
 ],
 "metadata": {
  "kernelspec": {
   "display_name": "PENG",
   "language": "python",
   "name": "python3"
  },
  "language_info": {
   "codemirror_mode": {
    "name": "ipython",
    "version": 3
   },
   "file_extension": ".py",
   "mimetype": "text/x-python",
   "name": "python",
   "nbconvert_exporter": "python",
   "pygments_lexer": "ipython3",
   "version": "3.9.18"
  }
 },
 "nbformat": 4,
 "nbformat_minor": 2
}
